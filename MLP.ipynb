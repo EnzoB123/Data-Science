{
 "cells": [
  {
   "cell_type": "markdown",
   "metadata": {},
   "source": [
    "<h1> Model Training - Multilayer Perceptron</h1>"
   ]
  },
  {
   "cell_type": "code",
   "execution_count": 11,
   "metadata": {},
   "outputs": [],
   "source": [
    "from sklearn.neural_network import MLPClassifier\n",
    "from sklearn.model_selection import GridSearchCV\n",
    "import pandas as pd\n",
    "import numpy as np\n",
    "import seaborn as sns\n",
    "import matplotlib.pyplot as plt\n",
    "import plotly.express as px"
   ]
  },
  {
   "cell_type": "code",
   "execution_count": 14,
   "metadata": {},
   "outputs": [],
   "source": [
    "df = pd.read_csv('data/train.csv')"
   ]
  },
  {
   "cell_type": "code",
   "execution_count": 15,
   "metadata": {},
   "outputs": [
    {
     "data": {
      "text/html": [
       "<div>\n",
       "<style scoped>\n",
       "    .dataframe tbody tr th:only-of-type {\n",
       "        vertical-align: middle;\n",
       "    }\n",
       "\n",
       "    .dataframe tbody tr th {\n",
       "        vertical-align: top;\n",
       "    }\n",
       "\n",
       "    .dataframe thead th {\n",
       "        text-align: right;\n",
       "    }\n",
       "</style>\n",
       "<table border=\"1\" class=\"dataframe\">\n",
       "  <thead>\n",
       "    <tr style=\"text-align: right;\">\n",
       "      <th></th>\n",
       "      <th>HS_CPF</th>\n",
       "      <th>TEMPOCPF</th>\n",
       "      <th>DISTCENTROCIDADE</th>\n",
       "      <th>ORIENTACAO_SEXUAL</th>\n",
       "      <th>RELIGIAO</th>\n",
       "      <th>DISTZONARISCO</th>\n",
       "      <th>QTDENDERECO</th>\n",
       "      <th>QTDEMAIL</th>\n",
       "      <th>QTDCELULAR</th>\n",
       "      <th>CELULARPROCON</th>\n",
       "      <th>...</th>\n",
       "      <th>QTDDECLARACAOISENTA</th>\n",
       "      <th>QTDDECLARACAO10</th>\n",
       "      <th>QTDDECLARACAOREST10</th>\n",
       "      <th>QTDDECLARACAOPAGAR10</th>\n",
       "      <th>RESTITUICAOAGENCIAALTARENDA</th>\n",
       "      <th>BOLSAFAMILIA</th>\n",
       "      <th>ANOSULTIMARESTITUICAO</th>\n",
       "      <th>ANOSULTIMADECLARACAO</th>\n",
       "      <th>ANOSULTIMADECLARACAOPAGAR</th>\n",
       "      <th>TARGET</th>\n",
       "    </tr>\n",
       "  </thead>\n",
       "  <tbody>\n",
       "    <tr>\n",
       "      <th>0</th>\n",
       "      <td>3144</td>\n",
       "      <td>11</td>\n",
       "      <td>3338</td>\n",
       "      <td>HETERO</td>\n",
       "      <td>EVANGELICA</td>\n",
       "      <td>166753</td>\n",
       "      <td>2</td>\n",
       "      <td>0</td>\n",
       "      <td>1</td>\n",
       "      <td>0</td>\n",
       "      <td>...</td>\n",
       "      <td>0</td>\n",
       "      <td>0</td>\n",
       "      <td>0</td>\n",
       "      <td>0</td>\n",
       "      <td>0</td>\n",
       "      <td>0</td>\n",
       "      <td>-9998</td>\n",
       "      <td>-9998</td>\n",
       "      <td>-9998</td>\n",
       "      <td>1.0</td>\n",
       "    </tr>\n",
       "    <tr>\n",
       "      <th>1</th>\n",
       "      <td>54431</td>\n",
       "      <td>19</td>\n",
       "      <td>5792</td>\n",
       "      <td>HETERO</td>\n",
       "      <td>CATOLICA</td>\n",
       "      <td>4820</td>\n",
       "      <td>1</td>\n",
       "      <td>1</td>\n",
       "      <td>0</td>\n",
       "      <td>0</td>\n",
       "      <td>...</td>\n",
       "      <td>0</td>\n",
       "      <td>0</td>\n",
       "      <td>0</td>\n",
       "      <td>0</td>\n",
       "      <td>0</td>\n",
       "      <td>1</td>\n",
       "      <td>-9998</td>\n",
       "      <td>-9998</td>\n",
       "      <td>-9998</td>\n",
       "      <td>0.0</td>\n",
       "    </tr>\n",
       "    <tr>\n",
       "      <th>2</th>\n",
       "      <td>72055</td>\n",
       "      <td>26</td>\n",
       "      <td>1550</td>\n",
       "      <td>HETERO</td>\n",
       "      <td>CATOLICA</td>\n",
       "      <td>502</td>\n",
       "      <td>1</td>\n",
       "      <td>0</td>\n",
       "      <td>2</td>\n",
       "      <td>0</td>\n",
       "      <td>...</td>\n",
       "      <td>4</td>\n",
       "      <td>2</td>\n",
       "      <td>0</td>\n",
       "      <td>0</td>\n",
       "      <td>0</td>\n",
       "      <td>0</td>\n",
       "      <td>-9998</td>\n",
       "      <td>4</td>\n",
       "      <td>-9998</td>\n",
       "      <td>0.0</td>\n",
       "    </tr>\n",
       "    <tr>\n",
       "      <th>3</th>\n",
       "      <td>637687</td>\n",
       "      <td>18</td>\n",
       "      <td>0</td>\n",
       "      <td>HETERO</td>\n",
       "      <td>CATOLICA</td>\n",
       "      <td>535010</td>\n",
       "      <td>2</td>\n",
       "      <td>0</td>\n",
       "      <td>0</td>\n",
       "      <td>0</td>\n",
       "      <td>...</td>\n",
       "      <td>1</td>\n",
       "      <td>7</td>\n",
       "      <td>0</td>\n",
       "      <td>1</td>\n",
       "      <td>0</td>\n",
       "      <td>0</td>\n",
       "      <td>-9998</td>\n",
       "      <td>2</td>\n",
       "      <td>7</td>\n",
       "      <td>0.0</td>\n",
       "    </tr>\n",
       "    <tr>\n",
       "      <th>4</th>\n",
       "      <td>586795</td>\n",
       "      <td>20</td>\n",
       "      <td>0</td>\n",
       "      <td>HETERO</td>\n",
       "      <td>CATOLICA</td>\n",
       "      <td>2528</td>\n",
       "      <td>3</td>\n",
       "      <td>0</td>\n",
       "      <td>1</td>\n",
       "      <td>0</td>\n",
       "      <td>...</td>\n",
       "      <td>0</td>\n",
       "      <td>0</td>\n",
       "      <td>0</td>\n",
       "      <td>0</td>\n",
       "      <td>0</td>\n",
       "      <td>0</td>\n",
       "      <td>-9998</td>\n",
       "      <td>15</td>\n",
       "      <td>15</td>\n",
       "      <td>0.0</td>\n",
       "    </tr>\n",
       "  </tbody>\n",
       "</table>\n",
       "<p>5 rows × 70 columns</p>\n",
       "</div>"
      ],
      "text/plain": [
       "   HS_CPF  TEMPOCPF  DISTCENTROCIDADE ORIENTACAO_SEXUAL    RELIGIAO  \\\n",
       "0    3144        11              3338            HETERO  EVANGELICA   \n",
       "1   54431        19              5792            HETERO    CATOLICA   \n",
       "2   72055        26              1550            HETERO    CATOLICA   \n",
       "3  637687        18                 0            HETERO    CATOLICA   \n",
       "4  586795        20                 0            HETERO    CATOLICA   \n",
       "\n",
       "   DISTZONARISCO  QTDENDERECO  QTDEMAIL  QTDCELULAR  CELULARPROCON  ...  \\\n",
       "0         166753            2         0           1              0  ...   \n",
       "1           4820            1         1           0              0  ...   \n",
       "2            502            1         0           2              0  ...   \n",
       "3         535010            2         0           0              0  ...   \n",
       "4           2528            3         0           1              0  ...   \n",
       "\n",
       "   QTDDECLARACAOISENTA  QTDDECLARACAO10  QTDDECLARACAOREST10  \\\n",
       "0                    0                0                    0   \n",
       "1                    0                0                    0   \n",
       "2                    4                2                    0   \n",
       "3                    1                7                    0   \n",
       "4                    0                0                    0   \n",
       "\n",
       "   QTDDECLARACAOPAGAR10  RESTITUICAOAGENCIAALTARENDA  BOLSAFAMILIA  \\\n",
       "0                     0                            0             0   \n",
       "1                     0                            0             1   \n",
       "2                     0                            0             0   \n",
       "3                     1                            0             0   \n",
       "4                     0                            0             0   \n",
       "\n",
       "   ANOSULTIMARESTITUICAO  ANOSULTIMADECLARACAO  ANOSULTIMADECLARACAOPAGAR  \\\n",
       "0                  -9998                 -9998                      -9998   \n",
       "1                  -9998                 -9998                      -9998   \n",
       "2                  -9998                     4                      -9998   \n",
       "3                  -9998                     2                          7   \n",
       "4                  -9998                    15                         15   \n",
       "\n",
       "   TARGET  \n",
       "0     1.0  \n",
       "1     0.0  \n",
       "2     0.0  \n",
       "3     0.0  \n",
       "4     0.0  \n",
       "\n",
       "[5 rows x 70 columns]"
      ]
     },
     "execution_count": 15,
     "metadata": {},
     "output_type": "execute_result"
    }
   ],
   "source": [
    "df.head()"
   ]
  },
  {
   "cell_type": "code",
   "execution_count": 16,
   "metadata": {},
   "outputs": [],
   "source": [
    "# Susbtituindo os valores -9999 por NaN\n",
    "df.replace(-9999, df.mean(), inplace=True)"
   ]
  },
  {
   "cell_type": "code",
   "execution_count": 12,
   "metadata": {},
   "outputs": [],
   "source": [
    "df.fillna(df.mean(), inplace=True)"
   ]
  },
  {
   "cell_type": "code",
   "execution_count": 17,
   "metadata": {},
   "outputs": [],
   "source": [
    "remove = ['HS_CPF','ORIENTACAO_SEXUAL','RELIGIAO','DISTZONARISCO']\n",
    "df.drop(remove, axis=1, inplace=True)"
   ]
  },
  {
   "cell_type": "code",
   "execution_count": 18,
   "metadata": {},
   "outputs": [],
   "source": [
    "x_credit = df\n",
    "y_credit =df['TARGET'].to_numpy()\n",
    "x_credit.drop(['TARGET'], axis=1, inplace=True)\n",
    "x_credit = x_credit.to_numpy()"
   ]
  },
  {
   "cell_type": "code",
   "execution_count": 19,
   "metadata": {},
   "outputs": [],
   "source": [
    "from sklearn.model_selection import train_test_split\n",
    "x_credit_treinamento, x_credit_teste, y_credit_treinamento, y_credit_teste = train_test_split(x_credit, y_credit, test_size = 0.60, random_state = 0)"
   ]
  },
  {
   "cell_type": "code",
   "execution_count": 20,
   "metadata": {},
   "outputs": [
    {
     "data": {
      "text/plain": [
       "MLPClassifier(early_stopping=True, max_iter=1500, random_state=10,\n",
       "              validation_fraction=0.2)"
      ]
     },
     "execution_count": 20,
     "metadata": {},
     "output_type": "execute_result"
    }
   ],
   "source": [
    "rede_neural_credit = MLPClassifier(random_state=10, max_iter=1500, early_stopping=True, validation_fraction=0.2)\n",
    "rede_neural_credit.fit(x_credit_treinamento, y_credit_treinamento)"
   ]
  },
  {
   "cell_type": "code",
   "execution_count": 21,
   "metadata": {},
   "outputs": [
    {
     "data": {
      "text/plain": [
       "array([0., 0., 0., ..., 0., 0., 0.])"
      ]
     },
     "execution_count": 21,
     "metadata": {},
     "output_type": "execute_result"
    }
   ],
   "source": [
    "previsoes = rede_neural_credit.predict(x_credit_teste)\n",
    "previsoes"
   ]
  },
  {
   "cell_type": "code",
   "execution_count": 22,
   "metadata": {},
   "outputs": [
    {
     "data": {
      "text/plain": [
       "array([0., 0., 0., ..., 0., 0., 0.])"
      ]
     },
     "execution_count": 22,
     "metadata": {},
     "output_type": "execute_result"
    }
   ],
   "source": [
    "y_credit_teste\n"
   ]
  },
  {
   "cell_type": "code",
   "execution_count": 23,
   "metadata": {},
   "outputs": [
    {
     "data": {
      "text/plain": [
       "0.9042595541401274"
      ]
     },
     "execution_count": 23,
     "metadata": {},
     "output_type": "execute_result"
    }
   ],
   "source": [
    "from sklearn.metrics import accuracy_score, classification_report\n",
    "accuracy_score(y_credit_teste, previsoes)"
   ]
  },
  {
   "cell_type": "code",
   "execution_count": 24,
   "metadata": {},
   "outputs": [
    {
     "name": "stdout",
     "output_type": "stream",
     "text": [
      "              precision    recall  f1-score   support\n",
      "\n",
      "         0.0       0.90      1.00      0.95     49982\n",
      "         1.0       0.00      0.00      0.00      5282\n",
      "\n",
      "    accuracy                           0.90     55264\n",
      "   macro avg       0.45      0.50      0.47     55264\n",
      "weighted avg       0.82      0.90      0.86     55264\n",
      "\n"
     ]
    }
   ],
   "source": [
    "print(classification_report(y_credit_teste, previsoes))\n"
   ]
  }
 ],
 "metadata": {
  "kernelspec": {
   "display_name": "Python 3.7.8 32-bit",
   "language": "python",
   "name": "python3"
  },
  "language_info": {
   "codemirror_mode": {
    "name": "ipython",
    "version": 3
   },
   "file_extension": ".py",
   "mimetype": "text/x-python",
   "name": "python",
   "nbconvert_exporter": "python",
   "pygments_lexer": "ipython3",
   "version": "3.7.8"
  },
  "orig_nbformat": 4,
  "vscode": {
   "interpreter": {
    "hash": "c72eea38e31e45ece3384b9089d7a4f46e899cb129d83cdec1758a1f0e4694ab"
   }
  }
 },
 "nbformat": 4,
 "nbformat_minor": 2
}
