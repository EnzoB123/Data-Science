{
  "cells": [
    {
      "cell_type": "markdown",
      "metadata": {
        "id": "view-in-github",
        "colab_type": "text"
      },
      "source": [
        "<a href=\"https://colab.research.google.com/github/ednakatani/Data-Science/blob/marco/DS_project.ipynb\" target=\"_parent\"><img src=\"https://colab.research.google.com/assets/colab-badge.svg\" alt=\"Open In Colab\"/></a>"
      ]
    },
    {
      "cell_type": "markdown",
      "metadata": {
        "id": "WwufnHfvfSwv",
        "pycharm": {
          "name": "#%% md\n"
        }
      },
      "source": [
        "# Final Report - Data Science \n",
        "## Bachelor in Computer Science / PUCPR\n",
        "\n",
        "Professor Jean Paul Barddal\n",
        "\n",
        "`Place your name here` - `and your email here`\n",
        "\n",
        "`Place your name here` - `and your email here`\n",
        "\n",
        "`Place your name here` - `and your email here`\n",
        "\n",
        "`Place your name here` - `and your email here`\n",
        "\n",
        "`Place your name here` - `and your email here`\n",
        "\n",
        "`And the year here`"
      ]
    },
    {
      "cell_type": "markdown",
      "metadata": {
        "id": "68-F6cD9VL-J",
        "pycharm": {
          "name": "#%% md\n"
        }
      },
      "source": [
        "# Import the libs you need"
      ]
    },
    {
      "cell_type": "code",
      "execution_count": 1,
      "metadata": {
        "id": "itrIGnaaVQnH",
        "pycharm": {
          "name": "#%%\n"
        }
      },
      "outputs": [],
      "source": [
        "# Import all packages you need here\n",
        "import pandas as pd\n",
        "import numpy as np\n",
        "import matplotlib.pyplot as plt\n",
        "import seaborn as sns\n",
        "# etc"
      ]
    },
    {
      "cell_type": "markdown",
      "metadata": {
        "id": "kTP1pmiPgDY_",
        "pycharm": {
          "name": "#%% md\n"
        }
      },
      "source": [
        "# Loading your data"
      ]
    },
    {
      "cell_type": "markdown",
      "metadata": {
        "id": "DIRXQ53th3am",
        "pycharm": {
          "name": "#%% md\n"
        }
      },
      "source": [
        "Below, load the data using pandas and make all the necessary data cleansing so that all data types are correct for posterior analysis."
      ]
    },
    {
      "cell_type": "code",
      "execution_count": 2,
      "metadata": {
        "id": "-VCzmIHcgA2P",
        "pycharm": {
          "name": "#%%\n"
        },
        "colab": {
          "base_uri": "https://localhost:8080/"
        },
        "outputId": "24b1c217-ea64-4d03-e6b0-ee9a99c48b40"
      },
      "outputs": [
        {
          "output_type": "stream",
          "name": "stdout",
          "text": [
            "--2022-09-13 17:25:57--  https://www.dropbox.com/s/wxz0qd1ngjb1z2d/train.csv\n",
            "Resolving www.dropbox.com (www.dropbox.com)... 162.125.1.18, 2620:100:6016:18::a27d:112\n",
            "Connecting to www.dropbox.com (www.dropbox.com)|162.125.1.18|:443... connected.\n",
            "HTTP request sent, awaiting response... 302 Found\n",
            "Location: /s/raw/wxz0qd1ngjb1z2d/train.csv [following]\n",
            "--2022-09-13 17:25:58--  https://www.dropbox.com/s/raw/wxz0qd1ngjb1z2d/train.csv\n",
            "Reusing existing connection to www.dropbox.com:443.\n",
            "HTTP request sent, awaiting response... 302 Found\n",
            "Location: https://uce9d398037b27a9d2f78e695795.dl.dropboxusercontent.com/cd/0/inline/Bs48F-0tsSvxrviPgWNHKr5Cu03XZNJqBrSv09BsizcRf8BRcUm9FaZlbd7iN1SDdn8V3S9KE5Ud96IVNj0FfMtID-t6khJ-jz-4Njy2j_shxb6APYZXZJdl_J7Ph9NwupVEIdzdyGoG8fSmgJ0rnGDad4qj4oQHXL8cAiKY0x8VaA/file# [following]\n",
            "--2022-09-13 17:25:58--  https://uce9d398037b27a9d2f78e695795.dl.dropboxusercontent.com/cd/0/inline/Bs48F-0tsSvxrviPgWNHKr5Cu03XZNJqBrSv09BsizcRf8BRcUm9FaZlbd7iN1SDdn8V3S9KE5Ud96IVNj0FfMtID-t6khJ-jz-4Njy2j_shxb6APYZXZJdl_J7Ph9NwupVEIdzdyGoG8fSmgJ0rnGDad4qj4oQHXL8cAiKY0x8VaA/file\n",
            "Resolving uce9d398037b27a9d2f78e695795.dl.dropboxusercontent.com (uce9d398037b27a9d2f78e695795.dl.dropboxusercontent.com)... 162.125.1.15, 2620:100:6016:15::a27d:10f\n",
            "Connecting to uce9d398037b27a9d2f78e695795.dl.dropboxusercontent.com (uce9d398037b27a9d2f78e695795.dl.dropboxusercontent.com)|162.125.1.15|:443... connected.\n",
            "HTTP request sent, awaiting response... 200 OK\n",
            "Length: 24135411 (23M) [text/plain]\n",
            "Saving to: ‘train.csv’\n",
            "\n",
            "train.csv           100%[===================>]  23.02M  32.2MB/s    in 0.7s    \n",
            "\n",
            "2022-09-13 17:25:59 (32.2 MB/s) - ‘train.csv’ saved [24135411/24135411]\n",
            "\n",
            "--2022-09-13 17:25:59--  https://www.dropbox.com/s/0kzeu3azlpfn2v3/test.csv\n",
            "Resolving www.dropbox.com (www.dropbox.com)... 162.125.1.18, 2620:100:6016:18::a27d:112\n",
            "Connecting to www.dropbox.com (www.dropbox.com)|162.125.1.18|:443... connected.\n",
            "HTTP request sent, awaiting response... 302 Found\n",
            "Location: /s/raw/0kzeu3azlpfn2v3/test.csv [following]\n",
            "--2022-09-13 17:26:00--  https://www.dropbox.com/s/raw/0kzeu3azlpfn2v3/test.csv\n",
            "Reusing existing connection to www.dropbox.com:443.\n",
            "HTTP request sent, awaiting response... 302 Found\n",
            "Location: https://uc63abb42a4156196a5c9c73ab70.dl.dropboxusercontent.com/cd/0/inline/Bs7sHcUZ_V7e5hWSdcBU-0KifQvGAQVYbwjF8_tAN-NLoObRDLgiBZ_ZeLOUDRFJFSs6uebtmmPpfHaYcuEukWvbGCJVBzhFi-Nys5KRGIsGe7aR54-TfSexv7PSb95xExqNKrMx4qa2pEZ7beS28J30B5SKLNI6D8q8-nJ-6taVww/file# [following]\n",
            "--2022-09-13 17:26:00--  https://uc63abb42a4156196a5c9c73ab70.dl.dropboxusercontent.com/cd/0/inline/Bs7sHcUZ_V7e5hWSdcBU-0KifQvGAQVYbwjF8_tAN-NLoObRDLgiBZ_ZeLOUDRFJFSs6uebtmmPpfHaYcuEukWvbGCJVBzhFi-Nys5KRGIsGe7aR54-TfSexv7PSb95xExqNKrMx4qa2pEZ7beS28J30B5SKLNI6D8q8-nJ-6taVww/file\n",
            "Resolving uc63abb42a4156196a5c9c73ab70.dl.dropboxusercontent.com (uc63abb42a4156196a5c9c73ab70.dl.dropboxusercontent.com)... 162.125.1.15, 2620:100:6016:15::a27d:10f\n",
            "Connecting to uc63abb42a4156196a5c9c73ab70.dl.dropboxusercontent.com (uc63abb42a4156196a5c9c73ab70.dl.dropboxusercontent.com)|162.125.1.15|:443... connected.\n",
            "HTTP request sent, awaiting response... 200 OK\n",
            "Length: 10217810 (9.7M) [text/plain]\n",
            "Saving to: ‘test.csv’\n",
            "\n",
            "test.csv            100%[===================>]   9.74M  49.6MB/s    in 0.2s    \n",
            "\n",
            "2022-09-13 17:26:00 (49.6 MB/s) - ‘test.csv’ saved [10217810/10217810]\n",
            "\n"
          ]
        }
      ],
      "source": [
        "# load your data here\n",
        "!wget https://www.dropbox.com/s/wxz0qd1ngjb1z2d/train.csv\n",
        "!wget https://www.dropbox.com/s/0kzeu3azlpfn2v3/test.csv"
      ]
    },
    {
      "cell_type": "code",
      "source": [
        "df_test = pd.read_csv('test.csv')\n",
        "df_train = pd.read_csv('train.csv')"
      ],
      "metadata": {
        "id": "bMr_BbPgGI43"
      },
      "execution_count": 3,
      "outputs": []
    },
    {
      "cell_type": "code",
      "execution_count": 4,
      "metadata": {
        "id": "Zpe46g9NiAy5",
        "pycharm": {
          "name": "#%%\n"
        }
      },
      "outputs": [],
      "source": [
        "# clean and treat the data here\n",
        "remove = ['HS_CPF', 'ORIENTACAO_SEXUAL', 'RELIGIAO']\n",
        "df_train.drop(remove, axis=1, inplace=True)\n",
        "df_test.drop(remove, axis=1, inplace=True)\n",
        "df_train.replace(-9999, np.nan, inplace=True)\n",
        "df_test.replace(-9999, np.nan, inplace=True)\n",
        "df_train.replace(-9998, np.nan, inplace=True)\n",
        "df_test.replace(-9998, np.nan, inplace=True)"
      ]
    },
    {
      "cell_type": "code",
      "source": [
        "df_train.head(5)"
      ],
      "metadata": {
        "colab": {
          "base_uri": "https://localhost:8080/",
          "height": 299
        },
        "id": "3D-HZ6O0GKt-",
        "outputId": "74e30236-457c-4c49-863d-e952460519f2"
      },
      "execution_count": null,
      "outputs": [
        {
          "output_type": "execute_result",
          "data": {
            "text/plain": [
              "   TEMPOCPF  DISTCENTROCIDADE  DISTZONARISCO  QTDENDERECO  QTDEMAIL  \\\n",
              "0      11.0            3338.0       166753.0          2.0       0.0   \n",
              "1      19.0            5792.0         4820.0          1.0       1.0   \n",
              "2      26.0            1550.0          502.0          1.0       0.0   \n",
              "3      18.0               0.0       535010.0          2.0       0.0   \n",
              "4      20.0               0.0         2528.0          3.0       0.0   \n",
              "\n",
              "   QTDCELULAR  CELULARPROCON  QTDFONEFIXO  TELFIXOPROCON  INDICEEMPREGO  ...  \\\n",
              "0         1.0            0.0          0.0            0.0            0.0  ...   \n",
              "1         0.0            0.0          2.0            0.0            0.0  ...   \n",
              "2         2.0            0.0          1.0            0.0            4.0  ...   \n",
              "3         0.0            0.0          2.0            0.0            0.0  ...   \n",
              "4         1.0            0.0          3.0            0.0            6.0  ...   \n",
              "\n",
              "   QTDDECLARACAOISENTA  QTDDECLARACAO10  QTDDECLARACAOREST10  \\\n",
              "0                  0.0              0.0                  0.0   \n",
              "1                  0.0              0.0                  0.0   \n",
              "2                  4.0              2.0                  0.0   \n",
              "3                  1.0              7.0                  0.0   \n",
              "4                  0.0              0.0                  0.0   \n",
              "\n",
              "   QTDDECLARACAOPAGAR10  RESTITUICAOAGENCIAALTARENDA  BOLSAFAMILIA  \\\n",
              "0                   0.0                          0.0           0.0   \n",
              "1                   0.0                          0.0           1.0   \n",
              "2                   0.0                          0.0           0.0   \n",
              "3                   1.0                          0.0           0.0   \n",
              "4                   0.0                          0.0           0.0   \n",
              "\n",
              "   ANOSULTIMARESTITUICAO  ANOSULTIMADECLARACAO  ANOSULTIMADECLARACAOPAGAR  \\\n",
              "0                    NaN                   NaN                        NaN   \n",
              "1                    NaN                   NaN                        NaN   \n",
              "2                    NaN                   4.0                        NaN   \n",
              "3                    NaN                   2.0                        7.0   \n",
              "4                    NaN                  15.0                       15.0   \n",
              "\n",
              "   TARGET  \n",
              "0     1.0  \n",
              "1     0.0  \n",
              "2     0.0  \n",
              "3     0.0  \n",
              "4     0.0  \n",
              "\n",
              "[5 rows x 67 columns]"
            ],
            "text/html": [
              "\n",
              "  <div id=\"df-01935e74-205a-4d55-9262-895f82ca3008\">\n",
              "    <div class=\"colab-df-container\">\n",
              "      <div>\n",
              "<style scoped>\n",
              "    .dataframe tbody tr th:only-of-type {\n",
              "        vertical-align: middle;\n",
              "    }\n",
              "\n",
              "    .dataframe tbody tr th {\n",
              "        vertical-align: top;\n",
              "    }\n",
              "\n",
              "    .dataframe thead th {\n",
              "        text-align: right;\n",
              "    }\n",
              "</style>\n",
              "<table border=\"1\" class=\"dataframe\">\n",
              "  <thead>\n",
              "    <tr style=\"text-align: right;\">\n",
              "      <th></th>\n",
              "      <th>TEMPOCPF</th>\n",
              "      <th>DISTCENTROCIDADE</th>\n",
              "      <th>DISTZONARISCO</th>\n",
              "      <th>QTDENDERECO</th>\n",
              "      <th>QTDEMAIL</th>\n",
              "      <th>QTDCELULAR</th>\n",
              "      <th>CELULARPROCON</th>\n",
              "      <th>QTDFONEFIXO</th>\n",
              "      <th>TELFIXOPROCON</th>\n",
              "      <th>INDICEEMPREGO</th>\n",
              "      <th>...</th>\n",
              "      <th>QTDDECLARACAOISENTA</th>\n",
              "      <th>QTDDECLARACAO10</th>\n",
              "      <th>QTDDECLARACAOREST10</th>\n",
              "      <th>QTDDECLARACAOPAGAR10</th>\n",
              "      <th>RESTITUICAOAGENCIAALTARENDA</th>\n",
              "      <th>BOLSAFAMILIA</th>\n",
              "      <th>ANOSULTIMARESTITUICAO</th>\n",
              "      <th>ANOSULTIMADECLARACAO</th>\n",
              "      <th>ANOSULTIMADECLARACAOPAGAR</th>\n",
              "      <th>TARGET</th>\n",
              "    </tr>\n",
              "  </thead>\n",
              "  <tbody>\n",
              "    <tr>\n",
              "      <th>0</th>\n",
              "      <td>11.0</td>\n",
              "      <td>3338.0</td>\n",
              "      <td>166753.0</td>\n",
              "      <td>2.0</td>\n",
              "      <td>0.0</td>\n",
              "      <td>1.0</td>\n",
              "      <td>0.0</td>\n",
              "      <td>0.0</td>\n",
              "      <td>0.0</td>\n",
              "      <td>0.0</td>\n",
              "      <td>...</td>\n",
              "      <td>0.0</td>\n",
              "      <td>0.0</td>\n",
              "      <td>0.0</td>\n",
              "      <td>0.0</td>\n",
              "      <td>0.0</td>\n",
              "      <td>0.0</td>\n",
              "      <td>NaN</td>\n",
              "      <td>NaN</td>\n",
              "      <td>NaN</td>\n",
              "      <td>1.0</td>\n",
              "    </tr>\n",
              "    <tr>\n",
              "      <th>1</th>\n",
              "      <td>19.0</td>\n",
              "      <td>5792.0</td>\n",
              "      <td>4820.0</td>\n",
              "      <td>1.0</td>\n",
              "      <td>1.0</td>\n",
              "      <td>0.0</td>\n",
              "      <td>0.0</td>\n",
              "      <td>2.0</td>\n",
              "      <td>0.0</td>\n",
              "      <td>0.0</td>\n",
              "      <td>...</td>\n",
              "      <td>0.0</td>\n",
              "      <td>0.0</td>\n",
              "      <td>0.0</td>\n",
              "      <td>0.0</td>\n",
              "      <td>0.0</td>\n",
              "      <td>1.0</td>\n",
              "      <td>NaN</td>\n",
              "      <td>NaN</td>\n",
              "      <td>NaN</td>\n",
              "      <td>0.0</td>\n",
              "    </tr>\n",
              "    <tr>\n",
              "      <th>2</th>\n",
              "      <td>26.0</td>\n",
              "      <td>1550.0</td>\n",
              "      <td>502.0</td>\n",
              "      <td>1.0</td>\n",
              "      <td>0.0</td>\n",
              "      <td>2.0</td>\n",
              "      <td>0.0</td>\n",
              "      <td>1.0</td>\n",
              "      <td>0.0</td>\n",
              "      <td>4.0</td>\n",
              "      <td>...</td>\n",
              "      <td>4.0</td>\n",
              "      <td>2.0</td>\n",
              "      <td>0.0</td>\n",
              "      <td>0.0</td>\n",
              "      <td>0.0</td>\n",
              "      <td>0.0</td>\n",
              "      <td>NaN</td>\n",
              "      <td>4.0</td>\n",
              "      <td>NaN</td>\n",
              "      <td>0.0</td>\n",
              "    </tr>\n",
              "    <tr>\n",
              "      <th>3</th>\n",
              "      <td>18.0</td>\n",
              "      <td>0.0</td>\n",
              "      <td>535010.0</td>\n",
              "      <td>2.0</td>\n",
              "      <td>0.0</td>\n",
              "      <td>0.0</td>\n",
              "      <td>0.0</td>\n",
              "      <td>2.0</td>\n",
              "      <td>0.0</td>\n",
              "      <td>0.0</td>\n",
              "      <td>...</td>\n",
              "      <td>1.0</td>\n",
              "      <td>7.0</td>\n",
              "      <td>0.0</td>\n",
              "      <td>1.0</td>\n",
              "      <td>0.0</td>\n",
              "      <td>0.0</td>\n",
              "      <td>NaN</td>\n",
              "      <td>2.0</td>\n",
              "      <td>7.0</td>\n",
              "      <td>0.0</td>\n",
              "    </tr>\n",
              "    <tr>\n",
              "      <th>4</th>\n",
              "      <td>20.0</td>\n",
              "      <td>0.0</td>\n",
              "      <td>2528.0</td>\n",
              "      <td>3.0</td>\n",
              "      <td>0.0</td>\n",
              "      <td>1.0</td>\n",
              "      <td>0.0</td>\n",
              "      <td>3.0</td>\n",
              "      <td>0.0</td>\n",
              "      <td>6.0</td>\n",
              "      <td>...</td>\n",
              "      <td>0.0</td>\n",
              "      <td>0.0</td>\n",
              "      <td>0.0</td>\n",
              "      <td>0.0</td>\n",
              "      <td>0.0</td>\n",
              "      <td>0.0</td>\n",
              "      <td>NaN</td>\n",
              "      <td>15.0</td>\n",
              "      <td>15.0</td>\n",
              "      <td>0.0</td>\n",
              "    </tr>\n",
              "  </tbody>\n",
              "</table>\n",
              "<p>5 rows × 67 columns</p>\n",
              "</div>\n",
              "      <button class=\"colab-df-convert\" onclick=\"convertToInteractive('df-01935e74-205a-4d55-9262-895f82ca3008')\"\n",
              "              title=\"Convert this dataframe to an interactive table.\"\n",
              "              style=\"display:none;\">\n",
              "        \n",
              "  <svg xmlns=\"http://www.w3.org/2000/svg\" height=\"24px\"viewBox=\"0 0 24 24\"\n",
              "       width=\"24px\">\n",
              "    <path d=\"M0 0h24v24H0V0z\" fill=\"none\"/>\n",
              "    <path d=\"M18.56 5.44l.94 2.06.94-2.06 2.06-.94-2.06-.94-.94-2.06-.94 2.06-2.06.94zm-11 1L8.5 8.5l.94-2.06 2.06-.94-2.06-.94L8.5 2.5l-.94 2.06-2.06.94zm10 10l.94 2.06.94-2.06 2.06-.94-2.06-.94-.94-2.06-.94 2.06-2.06.94z\"/><path d=\"M17.41 7.96l-1.37-1.37c-.4-.4-.92-.59-1.43-.59-.52 0-1.04.2-1.43.59L10.3 9.45l-7.72 7.72c-.78.78-.78 2.05 0 2.83L4 21.41c.39.39.9.59 1.41.59.51 0 1.02-.2 1.41-.59l7.78-7.78 2.81-2.81c.8-.78.8-2.07 0-2.86zM5.41 20L4 18.59l7.72-7.72 1.47 1.35L5.41 20z\"/>\n",
              "  </svg>\n",
              "      </button>\n",
              "      \n",
              "  <style>\n",
              "    .colab-df-container {\n",
              "      display:flex;\n",
              "      flex-wrap:wrap;\n",
              "      gap: 12px;\n",
              "    }\n",
              "\n",
              "    .colab-df-convert {\n",
              "      background-color: #E8F0FE;\n",
              "      border: none;\n",
              "      border-radius: 50%;\n",
              "      cursor: pointer;\n",
              "      display: none;\n",
              "      fill: #1967D2;\n",
              "      height: 32px;\n",
              "      padding: 0 0 0 0;\n",
              "      width: 32px;\n",
              "    }\n",
              "\n",
              "    .colab-df-convert:hover {\n",
              "      background-color: #E2EBFA;\n",
              "      box-shadow: 0px 1px 2px rgba(60, 64, 67, 0.3), 0px 1px 3px 1px rgba(60, 64, 67, 0.15);\n",
              "      fill: #174EA6;\n",
              "    }\n",
              "\n",
              "    [theme=dark] .colab-df-convert {\n",
              "      background-color: #3B4455;\n",
              "      fill: #D2E3FC;\n",
              "    }\n",
              "\n",
              "    [theme=dark] .colab-df-convert:hover {\n",
              "      background-color: #434B5C;\n",
              "      box-shadow: 0px 1px 3px 1px rgba(0, 0, 0, 0.15);\n",
              "      filter: drop-shadow(0px 1px 2px rgba(0, 0, 0, 0.3));\n",
              "      fill: #FFFFFF;\n",
              "    }\n",
              "  </style>\n",
              "\n",
              "      <script>\n",
              "        const buttonEl =\n",
              "          document.querySelector('#df-01935e74-205a-4d55-9262-895f82ca3008 button.colab-df-convert');\n",
              "        buttonEl.style.display =\n",
              "          google.colab.kernel.accessAllowed ? 'block' : 'none';\n",
              "\n",
              "        async function convertToInteractive(key) {\n",
              "          const element = document.querySelector('#df-01935e74-205a-4d55-9262-895f82ca3008');\n",
              "          const dataTable =\n",
              "            await google.colab.kernel.invokeFunction('convertToInteractive',\n",
              "                                                     [key], {});\n",
              "          if (!dataTable) return;\n",
              "\n",
              "          const docLinkHtml = 'Like what you see? Visit the ' +\n",
              "            '<a target=\"_blank\" href=https://colab.research.google.com/notebooks/data_table.ipynb>data table notebook</a>'\n",
              "            + ' to learn more about interactive tables.';\n",
              "          element.innerHTML = '';\n",
              "          dataTable['output_type'] = 'display_data';\n",
              "          await google.colab.output.renderOutput(dataTable, element);\n",
              "          const docLink = document.createElement('div');\n",
              "          docLink.innerHTML = docLinkHtml;\n",
              "          element.appendChild(docLink);\n",
              "        }\n",
              "      </script>\n",
              "    </div>\n",
              "  </div>\n",
              "  "
            ]
          },
          "metadata": {},
          "execution_count": 7
        }
      ]
    },
    {
      "cell_type": "code",
      "source": [
        "df_train.corr"
      ],
      "metadata": {
        "colab": {
          "base_uri": "https://localhost:8080/"
        },
        "id": "Xe5_PWKeGJEb",
        "outputId": "ba69f07d-444c-473d-bbbe-501a4ac17e98"
      },
      "execution_count": 5,
      "outputs": [
        {
          "output_type": "execute_result",
          "data": {
            "text/plain": [
              "<bound method DataFrame.corr of        TEMPOCPF  DISTCENTROCIDADE  DISTZONARISCO  QTDENDERECO  QTDEMAIL  \\\n",
              "0          11.0            3338.0       166753.0          2.0       0.0   \n",
              "1          19.0            5792.0         4820.0          1.0       1.0   \n",
              "2          26.0            1550.0          502.0          1.0       0.0   \n",
              "3          18.0               0.0       535010.0          2.0       0.0   \n",
              "4          20.0               0.0         2528.0          3.0       0.0   \n",
              "...         ...               ...            ...          ...       ...   \n",
              "92101       8.0               0.0       334409.0          1.0       2.0   \n",
              "92102      14.0            6095.0          630.0          1.0       2.0   \n",
              "92103       4.0               NaN            NaN          0.0       0.0   \n",
              "92104      26.0            2140.0          373.0          2.0       0.0   \n",
              "92105      26.0               0.0       291230.0          1.0       0.0   \n",
              "\n",
              "       QTDCELULAR  CELULARPROCON  QTDFONEFIXO  TELFIXOPROCON  INDICEEMPREGO  \\\n",
              "0             1.0            0.0          0.0            0.0            0.0   \n",
              "1             0.0            0.0          2.0            0.0            0.0   \n",
              "2             2.0            0.0          1.0            0.0            4.0   \n",
              "3             0.0            0.0          2.0            0.0            0.0   \n",
              "4             1.0            0.0          3.0            0.0            6.0   \n",
              "...           ...            ...          ...            ...            ...   \n",
              "92101         0.0            0.0          1.0            0.0            1.0   \n",
              "92102         3.0            0.0          1.0            0.0            3.0   \n",
              "92103         0.0            0.0          0.0            0.0            0.0   \n",
              "92104         2.0            0.0          1.0            0.0            6.0   \n",
              "92105         0.0            0.0          1.0            0.0            5.0   \n",
              "\n",
              "       ...  QTDDECLARACAOISENTA  QTDDECLARACAO10  QTDDECLARACAOREST10  \\\n",
              "0      ...                  0.0              0.0                  0.0   \n",
              "1      ...                  0.0              0.0                  0.0   \n",
              "2      ...                  4.0              2.0                  0.0   \n",
              "3      ...                  1.0              7.0                  0.0   \n",
              "4      ...                  0.0              0.0                  0.0   \n",
              "...    ...                  ...              ...                  ...   \n",
              "92101  ...                  0.0              0.0                  0.0   \n",
              "92102  ...                  5.0              2.0                  2.0   \n",
              "92103  ...                  0.0              0.0                  0.0   \n",
              "92104  ...                  0.0             10.0                 10.0   \n",
              "92105  ...                  1.0              0.0                  0.0   \n",
              "\n",
              "       QTDDECLARACAOPAGAR10  RESTITUICAOAGENCIAALTARENDA  BOLSAFAMILIA  \\\n",
              "0                       0.0                          0.0           0.0   \n",
              "1                       0.0                          0.0           1.0   \n",
              "2                       0.0                          0.0           0.0   \n",
              "3                       1.0                          0.0           0.0   \n",
              "4                       0.0                          0.0           0.0   \n",
              "...                     ...                          ...           ...   \n",
              "92101                   0.0                          0.0           0.0   \n",
              "92102                   0.0                          0.0           0.0   \n",
              "92103                   0.0                          0.0           0.0   \n",
              "92104                   0.0                          0.0           0.0   \n",
              "92105                   0.0                          0.0           0.0   \n",
              "\n",
              "       ANOSULTIMARESTITUICAO  ANOSULTIMADECLARACAO  ANOSULTIMADECLARACAOPAGAR  \\\n",
              "0                        NaN                   NaN                        NaN   \n",
              "1                        NaN                   NaN                        NaN   \n",
              "2                        NaN                   4.0                        NaN   \n",
              "3                        NaN                   2.0                        7.0   \n",
              "4                        NaN                  15.0                       15.0   \n",
              "...                      ...                   ...                        ...   \n",
              "92101                    NaN                   NaN                        NaN   \n",
              "92102                    2.0                   2.0                        NaN   \n",
              "92103                    NaN                   NaN                        NaN   \n",
              "92104                    1.0                   1.0                        NaN   \n",
              "92105                    NaN                  15.0                        NaN   \n",
              "\n",
              "       TARGET  \n",
              "0         1.0  \n",
              "1         0.0  \n",
              "2         0.0  \n",
              "3         0.0  \n",
              "4         0.0  \n",
              "...       ...  \n",
              "92101     0.0  \n",
              "92102     0.0  \n",
              "92103     0.0  \n",
              "92104     0.0  \n",
              "92105     0.0  \n",
              "\n",
              "[92106 rows x 67 columns]>"
            ]
          },
          "metadata": {},
          "execution_count": 5
        }
      ]
    },
    {
      "cell_type": "code",
      "execution_count": null,
      "metadata": {
        "id": "Y7WshR3nmZkL",
        "pycharm": {
          "name": "#%%\n"
        }
      },
      "outputs": [],
      "source": [
        "# use as many code and text cells as you wish"
      ]
    },
    {
      "cell_type": "markdown",
      "metadata": {
        "id": "xX9sOXW1gOCU",
        "pycharm": {
          "name": "#%% md\n"
        }
      },
      "source": [
        "# Univariate data analysis"
      ]
    },
    {
      "cell_type": "markdown",
      "metadata": {
        "id": "EQljrblLzQQz",
        "pycharm": {
          "name": "#%% md\n"
        }
      },
      "source": [
        "In this section, you should perform univariate data analysis on at least 20 variables. \n",
        "\n",
        "In the end, you should describe the main variables that are of your interest, and these should be accounted for in the next sections of the report.\n",
        "The definition of each variable chosen should be clarified, so arbitrary selections are **not** accepted at this point.\n",
        "\n",
        "For each variable plotted, make sure you determine the following:\n",
        "1. The distribution of the data (gaussian, binomial, exponential, etc)\n",
        "2. Skew\n",
        "3. Kurtosis\n",
        "4. Mean, standard deviation, and what they stand for in the context of the dataset\n",
        "\n",
        "Regardless of the type of the variable being analyzed, make sure you plot it correctly. For instance, make sure scatterplots are not used for categorical data and so forth."
      ]
    },
    {
      "cell_type": "code",
      "execution_count": null,
      "metadata": {
        "id": "BWS2-FMfgWJR",
        "pycharm": {
          "name": "#%%\n"
        }
      },
      "outputs": [],
      "source": [
        "# place as many cells to plot the visualizations, \n",
        "# as well as to describe the main findings"
      ]
    },
    {
      "cell_type": "markdown",
      "source": [
        "### Target\n",
        "A propriedade target é o alvo a ser predito no projeto.\n",
        "As instâncias são classificadas entre 0 e 1, sendo o 0 relativo a instâncias adimplentes e 1 aos inadimplentes.\n",
        "A base de dados é composta por aproximadamente 10% de inadimplentes."
      ],
      "metadata": {
        "id": "vqd2Ibg9rQoW"
      }
    },
    {
      "cell_type": "code",
      "source": [
        "sns.countplot(df_train['TARGET'])"
      ],
      "metadata": {
        "colab": {
          "base_uri": "https://localhost:8080/",
          "height": 351
        },
        "id": "Yyrg3_ToBMBs",
        "outputId": "e8ea9ab1-fec3-4034-e702-1806ad60fa31"
      },
      "execution_count": null,
      "outputs": [
        {
          "output_type": "stream",
          "name": "stderr",
          "text": [
            "/usr/local/lib/python3.7/dist-packages/seaborn/_decorators.py:43: FutureWarning: Pass the following variable as a keyword arg: x. From version 0.12, the only valid positional argument will be `data`, and passing other arguments without an explicit keyword will result in an error or misinterpretation.\n",
            "  FutureWarning\n"
          ]
        },
        {
          "output_type": "execute_result",
          "data": {
            "text/plain": [
              "<matplotlib.axes._subplots.AxesSubplot at 0x7ff5f6a8f590>"
            ]
          },
          "metadata": {},
          "execution_count": 6
        },
        {
          "output_type": "display_data",
          "data": {
            "text/plain": [
              "<Figure size 432x288 with 1 Axes>"
            ],
            "image/png": "[encoded data removed]"
          },
          "metadata": {
            "needs_background": "light"
          }
        }
      ]
    },
    {
      "cell_type": "markdown",
      "source": [
        "### Estimativa renda\n",
        "Corresponde a renda que a pessoa deverá receber no final do período de um mês. \n",
        "\n",
        "A intenção ao usar esta propriedade é observar alguma correlação entre a faixa salarial e outros fatores que causam a inadimplência de uma pessoa.\n",
        "\n",
        "A maior concentração de dados encontra-se abaixo dos 2000 reais, com assimetria à direita, sendo a mediana um salário de aproximadamente 1000 reais."
      ],
      "metadata": {
        "id": "10L7FIo3raKa"
      }
    },
    {
      "cell_type": "code",
      "source": [
        "sns.violinplot(df_train['ESTIMATIVARENDA'])\n",
        "plt.xlim(0,12000)\n",
        "plt.show()"
      ],
      "metadata": {
        "colab": {
          "base_uri": "https://localhost:8080/",
          "height": 334
        },
        "id": "R3aAtC59KGXT",
        "outputId": "58437d7c-6677-494b-ecb4-f62475620b44"
      },
      "execution_count": 6,
      "outputs": [
        {
          "output_type": "stream",
          "name": "stderr",
          "text": [
            "/usr/local/lib/python3.7/dist-packages/seaborn/_decorators.py:43: FutureWarning: Pass the following variable as a keyword arg: x. From version 0.12, the only valid positional argument will be `data`, and passing other arguments without an explicit keyword will result in an error or misinterpretation.\n",
            "  FutureWarning\n"
          ]
        },
        {
          "output_type": "display_data",
          "data": {
            "text/plain": [
              "<Figure size 432x288 with 1 Axes>"
            ],
            "image/png": "[encoded data removed]"
          },
          "metadata": {
            "needs_background": "light"
          }
        }
      ]
    },
    {
      "cell_type": "markdown",
      "source": [
        "### Bolsa família\n",
        "A coluna representa a quantidade de pessoas que recebem auxílio financeiro do governo.\n",
        "\n",
        "Poderá ser relevante ao estudo, tendo em vista que o recebimento do auxílio pode indicar dificuldades financeiras. \n",
        "\n",
        "4% das pessoas da base de dados recebem o auxílio."
      ],
      "metadata": {
        "id": "35lAw2ivuUZl"
      }
    },
    {
      "cell_type": "code",
      "source": [
        "sns.countplot(df_train['BOLSAFAMILIA'])\n",
        "df_train['BOLSAFAMILIA'].value_counts()"
      ],
      "metadata": {
        "colab": {
          "base_uri": "https://localhost:8080/",
          "height": 386
        },
        "id": "1gE3AKVrK3AT",
        "outputId": "e61b6600-878b-4ea5-d87e-653377aebc95"
      },
      "execution_count": 6,
      "outputs": [
        {
          "output_type": "stream",
          "name": "stderr",
          "text": [
            "/usr/local/lib/python3.7/dist-packages/seaborn/_decorators.py:43: FutureWarning: Pass the following variable as a keyword arg: x. From version 0.12, the only valid positional argument will be `data`, and passing other arguments without an explicit keyword will result in an error or misinterpretation.\n",
            "  FutureWarning\n"
          ]
        },
        {
          "output_type": "execute_result",
          "data": {
            "text/plain": [
              "0.0    87202\n",
              "1.0     3685\n",
              "Name: BOLSAFAMILIA, dtype: int64"
            ]
          },
          "metadata": {},
          "execution_count": 6
        },
        {
          "output_type": "display_data",
          "data": {
            "text/plain": [
              "<Figure size 432x288 with 1 Axes>"
            ],
            "image/png": "[encoded data removed]"
          },
          "metadata": {
            "needs_background": "light"
          }
        }
      ]
    },
    {
      "cell_type": "markdown",
      "source": [
        "### Indice emprego\n",
        "\n",
        "A coluna representa o indice de estabilidade do CPF no emprego em uma escala de valores discretos de 0 a 6, sendo 0 um emprego pouco estável e 6 um emprego muito estável.\n",
        "\n",
        "A hipótese é que uma menor estabilidade no emprego dificulta o pagamento de uma obrigação, por isso a escolha desta propriedade para este estudo.\n",
        "\n",
        "Na base de dados, observa-se a grande maioria das pessoas pertencentes ao grupo 0, com a menor estabilidade de emprego."
      ],
      "metadata": {
        "id": "6bagYQowH6d4"
      }
    },
    {
      "cell_type": "code",
      "source": [
        "sns.distplot( df_train[\"INDICEEMPREGO\"], hist=True, kde=False, rug=False )"
      ],
      "metadata": {
        "colab": {
          "base_uri": "https://localhost:8080/",
          "height": 351
        },
        "id": "sKvFGUBWMac2",
        "outputId": "4978f4ea-4263-409c-dae6-cb17e276ecdf"
      },
      "execution_count": null,
      "outputs": [
        {
          "output_type": "stream",
          "name": "stderr",
          "text": [
            "/usr/local/lib/python3.7/dist-packages/seaborn/distributions.py:2619: FutureWarning: `distplot` is a deprecated function and will be removed in a future version. Please adapt your code to use either `displot` (a figure-level function with similar flexibility) or `histplot` (an axes-level function for histograms).\n",
            "  warnings.warn(msg, FutureWarning)\n"
          ]
        },
        {
          "output_type": "execute_result",
          "data": {
            "text/plain": [
              "<matplotlib.axes._subplots.AxesSubplot at 0x7f140f35c650>"
            ]
          },
          "metadata": {},
          "execution_count": 14
        },
        {
          "output_type": "display_data",
          "data": {
            "text/plain": [
              "<Figure size 432x288 with 1 Axes>"
            ],
            "image/png": "[encoded data removed]"
          },
          "metadata": {
            "needs_background": "light"
          }
        }
      ]
    },
    {
      "cell_type": "markdown",
      "source": [
        "### Porte do empregador\n",
        "\n",
        "Indica o porte da empresa em que o CPF trabalha, com valores discretos de 0 a 4, sendo 4 o maior porte e 0, o menor.\n",
        "\n",
        "A hipótese é de que uma pessoa que trabalha numa empresa de grande porte terá maior probabilidade de receber o salário em dia do que aquela que trabalha para uma empresa de pequeno porte ou é autônoma, sendo menos provável que seja inadimplente.\n",
        "\n",
        "Também poderá ser feita a correlação entre o porte da empresa e o indice de estabilidade no emprego.\n",
        "\n",
        "Nesta base de dados, percebe-se a grande maioria das pessoas inseridas no grupo de empregadores de porte 0."
      ],
      "metadata": {
        "id": "LUJVeX0gK-oU"
      }
    },
    {
      "cell_type": "code",
      "source": [
        "# PORTEEMPREGADOR\n",
        "df_train['PORTEEMPREGADOR'].unique()\n",
        "sns.distplot(df_train['PORTEEMPREGADOR'],hist=True, kde=False, rug=True)"
      ],
      "metadata": {
        "colab": {
          "base_uri": "https://localhost:8080/",
          "height": 386
        },
        "id": "6TM5sqKiQYmv",
        "outputId": "4f3bd1f2-e7b5-46e7-93e3-c75ce7a5dd09"
      },
      "execution_count": 12,
      "outputs": [
        {
          "output_type": "stream",
          "name": "stderr",
          "text": [
            "/usr/local/lib/python3.7/dist-packages/seaborn/distributions.py:2619: FutureWarning: `distplot` is a deprecated function and will be removed in a future version. Please adapt your code to use either `displot` (a figure-level function with similar flexibility) or `histplot` (an axes-level function for histograms).\n",
            "  warnings.warn(msg, FutureWarning)\n",
            "/usr/local/lib/python3.7/dist-packages/seaborn/distributions.py:2103: FutureWarning: The `axis` variable is no longer used and will be removed. Instead, assign variables directly to `x` or `y`.\n",
            "  warnings.warn(msg, FutureWarning)\n"
          ]
        },
        {
          "output_type": "execute_result",
          "data": {
            "text/plain": [
              "<matplotlib.axes._subplots.AxesSubplot at 0x7fef6f306490>"
            ]
          },
          "metadata": {},
          "execution_count": 12
        },
        {
          "output_type": "display_data",
          "data": {
            "text/plain": [
              "<Figure size 432x288 with 1 Axes>"
            ],
            "image/png": "[encoded data removed]"
          },
          "metadata": {
            "needs_background": "light"
          }
        }
      ]
    },
    {
      "cell_type": "code",
      "execution_count": null,
      "metadata": {
        "id": "zACQ5EROmhM5",
        "pycharm": {
          "name": "#%%\n"
        }
      },
      "outputs": [],
      "source": [
        "# if you realize you need to further clean your data here, there is no problem, \n",
        "# yet, make sure you are describing the entire process and the rationale \n",
        "# behind your choices here"
      ]
    },
    {
      "cell_type": "markdown",
      "metadata": {
        "id": "cAVrOW1tgQU7",
        "pycharm": {
          "name": "#%% md\n"
        }
      },
      "source": [
        "# Multivariate data analysis"
      ]
    },
    {
      "cell_type": "markdown",
      "metadata": {
        "id": "jD7VaU40z_sN",
        "pycharm": {
          "name": "#%% md\n"
        }
      },
      "source": [
        "In this section, you should plot at least 8 multivariate visualizations. The key here is to investigate underlying correlations and behaviors in the dataset.\n",
        "Naturally, as visualizations are being created, we should end up with obvious results, yet, you should find at least **TWO** non-obvious behavior in data.\n",
        "\n",
        "Please follow these steps for creating your visualizations:\n",
        "1. State an hypothesis. The key here is to explain why you are choosing those specific variables together and what you are expecting to find.\n",
        "2. Determine what kind of visualization is the most suited.\n",
        "3. Report the findings and whether they corroborate or not the aforestated hypothesis.\n",
        "\n",
        "\n",
        "### Hints\n",
        "\n",
        "In this section, make sure you go beyond naive explorations. For instance, try PCA, t-SNE, and even other techniques we have not worked with during the lectures. The key here is to start to develop a critical mindset towards data analysis and our own work.\n",
        "\n",
        "### Important\n",
        "\n",
        "It is strictly forbidden to create multivariate visualizations using variables that were not used in the previous section (univariate analysis)."
      ]
    },
    {
      "cell_type": "code",
      "execution_count": null,
      "metadata": {
        "id": "fp4ct7TngWmF",
        "pycharm": {
          "name": "#%%\n"
        }
      },
      "outputs": [],
      "source": [
        "# again, feel free to place as many cells to plot the visualizations, \n",
        "# as well as describe to the main findings"
      ]
    },
    {
      "cell_type": "markdown",
      "source": [
        "### Porte Empregador vs Indice Emprego\n",
        "\n",
        "A hipótese é que, quanto maior o porte do empregador, maior seria a estabilidade no emprego (indice emprego), porém este comportamento não é necessariamente verdadeiro.\n",
        "\n",
        "O comportamento mais destacado, e esperado, é a correlação forte entre os índices 0 para porte do empregador e 0 para o indice emprego, em que 82% das pessoas com porte do empregador igual a zero, têm indice de emprego também igual a zero.\n",
        "\n",
        "Chama a atenção que, à exceção das pessoas com porte do empregador igual a 4 (máximo), todas se concentram em sua maioria com indice de emprego igual a zero, sendo os outros indices distribuídos de forma mais equivalente.\n",
        "\n",
        "Nos CPF com porte do empregador igual a 4, observa-se uma concentração maior de dados no indice de emprego igual a 5, com os outros indices distribuídos de forma parecida.\n",
        "\n",
        "Ainda assim, apesar de existirem diferenças, elas são mínimas para que se conclua que as variáveis sejam fortemente correlacionadas. Apenas que se a pessoa possuir um porte do empregador igual a zero, o índice de emprego será mais provável de ser também zero, e vice-versa."
      ],
      "metadata": {
        "id": "zIduLsDGXVW6"
      }
    },
    {
      "cell_type": "code",
      "source": [
        "porte = df_train['PORTEEMPREGADOR']\n",
        "indice = df_train['INDICEEMPREGO']\n",
        "#porte.value_counts()\n",
        "ctab = pd.crosstab(porte,indice, normalize='index')\n",
        "sns.heatmap(ctab, annot=True, fmt='.1%')\n",
        "plt.show()"
      ],
      "metadata": {
        "colab": {
          "base_uri": "https://localhost:8080/",
          "height": 279
        },
        "id": "X5e1nSLL6OUZ",
        "outputId": "785e2751-b0ca-4daa-9a06-c78067705a41"
      },
      "execution_count": 18,
      "outputs": [
        {
          "output_type": "display_data",
          "data": {
            "text/plain": [
              "<Figure size 432x288 with 2 Axes>"
            ],
            "image/png": "[encoded data removed]"
          },
          "metadata": {
            "needs_background": "light"
          }
        }
      ]
    },
    {
      "cell_type": "code",
      "source": [],
      "metadata": {
        "id": "ac_x1eWARMV5"
      },
      "execution_count": null,
      "outputs": []
    },
    {
      "cell_type": "markdown",
      "metadata": {
        "id": "ehWz8rAcgZ0c",
        "pycharm": {
          "name": "#%% md\n"
        }
      },
      "source": [
        "# Final Plots"
      ]
    },
    {
      "cell_type": "markdown",
      "metadata": {
        "id": "OHyF3RvU2q9r",
        "pycharm": {
          "name": "#%% md\n"
        }
      },
      "source": [
        "In this section, you need to enhance 3 multivariate visualizations that were presented in the previous section of the report.\n",
        "The key here is to enhance these visualizations with the goal of presenting them for an audience that is not familiar with the dataset used or with data analysis.\n",
        "**Therefore, make sure that its size, colors, textures, etc, are appropriate are convey the right information to the audience.**\n",
        "\n",
        "For your final plots, make sure you follow these steps:\n",
        "1. Present the plot\n",
        "2. Provide a description of the visualization, including the main findings that we can extract from it\n",
        "\n",
        "\n",
        "**Hint: take a look at the checklist also made available based on the work of Evergreen.**"
      ]
    },
    {
      "cell_type": "code",
      "execution_count": null,
      "metadata": {
        "id": "K90_0h6JgfnW",
        "pycharm": {
          "name": "#%%\n"
        }
      },
      "outputs": [],
      "source": [
        "# your code goes here"
      ]
    },
    {
      "cell_type": "markdown",
      "metadata": {
        "id": "Ua7B5nTmgbN7",
        "pycharm": {
          "name": "#%% md\n"
        }
      },
      "source": [
        "# Digest"
      ]
    },
    {
      "cell_type": "markdown",
      "metadata": {
        "id": "YJ0cqdoj4Lg7",
        "pycharm": {
          "name": "#%% md\n"
        }
      },
      "source": [
        "In this section you should write down all the main findings of this exploratory data analysis. Furthermore, you should provide a reflection about your own work and effort during the module, highlighting what you believe you have done well and what you should have done differently. This digest should have at least 2500 characters (no spaces)."
      ]
    },
    {
      "cell_type": "markdown",
      "metadata": {
        "id": "NQWFN0TEPUzp",
        "pycharm": {
          "name": "#%% md\n"
        }
      },
      "source": [
        "```\n",
        "Add your text here.\n",
        "```"
      ]
    },
    {
      "cell_type": "markdown",
      "metadata": {
        "id": "_CaFQEil1F6Q",
        "pycharm": {
          "name": "#%% md\n"
        }
      },
      "source": [
        "# Final Steps\n"
      ]
    },
    {
      "cell_type": "markdown",
      "metadata": {
        "id": "a2R5Kily1H7f",
        "pycharm": {
          "name": "#%% md\n"
        }
      },
      "source": [
        "1. Save this report as a jupyter notebook (`.ipynb`)\n",
        "2. Save a copy of this report as a PDF file (`.pdf`)\n",
        "3. Copy the dataset\n",
        "4. Zip it all together within a single file (`<your_team_name>.zip`)\n",
        "5. Send it over using Blackboard."
      ]
    },
    {
      "cell_type": "code",
      "execution_count": null,
      "metadata": {
        "pycharm": {
          "name": "#%%\n"
        },
        "id": "e1Z7s-yuEGHV"
      },
      "outputs": [],
      "source": []
    }
  ],
  "metadata": {
    "accelerator": "GPU",
    "colab": {
      "collapsed_sections": [
        "WwufnHfvfSwv",
        "jD7VaU40z_sN",
        "ehWz8rAcgZ0c",
        "Ua7B5nTmgbN7",
        "_CaFQEil1F6Q"
      ],
      "provenance": [],
      "include_colab_link": true
    },
    "kernelspec": {
      "display_name": "Python 3",
      "language": "python",
      "name": "python3"
    },
    "language_info": {
      "codemirror_mode": {
        "name": "ipython",
        "version": 3
      },
      "file_extension": ".py",
      "mimetype": "text/x-python",
      "name": "python",
      "nbconvert_exporter": "python",
      "pygments_lexer": "ipython3",
      "version": "3.7.4"
    }
  },
  "nbformat": 4,
  "nbformat_minor": 0
}