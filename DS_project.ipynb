{
  "cells": [
    {
      "cell_type": "markdown",
      "metadata": {
        "colab_type": "text",
        "id": "view-in-github"
      },
      "source": [
        "<a href=\"https://colab.research.google.com/github/ednakatani/Data-Science/blob/marco/DS_project.ipynb\" target=\"_parent\"><img src=\"https://colab.research.google.com/assets/colab-badge.svg\" alt=\"Open In Colab\"/></a>"
      ]
    },
    {
      "cell_type": "markdown",
      "metadata": {
        "id": "WwufnHfvfSwv",
        "pycharm": {
          "name": "#%% md\n"
        }
      },
      "source": [
        "# Final Report - Data Science \n",
        "## Bachelor in Computer Science / PUCPR\n",
        "\n",
        "Professor Jean Paul Barddal\n",
        "\n",
        "Eduardo Klein Nakatani - eduardo.nakatani@pucpr.edu.br\n",
        "\n",
        "Enzo Bottan Coutinho - enzo.bottan@pucpr.edu.br\n",
        "\n",
        "Henrique Levandoski Richa - henrique.levandoski@pucpr.edu.br\n",
        "\n",
        "Henrique Vieira da Costa - henrique.costa4@pucpr.edu.br\n",
        "\n",
        "Lucas Gabriel Mendes de Castro - lucas.castro@pucpr.edu.br\n",
        "\n",
        "Marco Aurélio Silva de Souza Júnior - junior.aurelio@pucpr.edu.br\n",
        "\n",
        "2022"
      ]
    },
    {
      "cell_type": "markdown",
      "metadata": {
        "id": "68-F6cD9VL-J",
        "pycharm": {
          "name": "#%% md\n"
        }
      },
      "source": [
        "# Import the libs you need"
      ]
    },
    {
      "cell_type": "code",
      "execution_count": 5,
      "metadata": {
        "id": "itrIGnaaVQnH",
        "pycharm": {
          "name": "#%%\n"
        }
      },
      "outputs": [],
      "source": [
        "# Import all packages you need here\n",
        "import pandas as pd\n",
        "import numpy as np\n",
        "import matplotlib.pyplot as plt\n",
        "import seaborn as sns\n",
        "# etc"
      ]
    },
    {
      "cell_type": "markdown",
      "metadata": {
        "id": "kTP1pmiPgDY_",
        "pycharm": {
          "name": "#%% md\n"
        }
      },
      "source": [
        "# Loading your data"
      ]
    },
    {
      "cell_type": "markdown",
      "metadata": {
        "id": "DIRXQ53th3am",
        "pycharm": {
          "name": "#%% md\n"
        }
      },
      "source": [
        "Below, load the data using pandas and make all the necessary data cleansing so that all data types are correct for posterior analysis."
      ]
    },
    {
      "cell_type": "code",
      "execution_count": 6,
      "metadata": {
        "colab": {
          "base_uri": "https://localhost:8080/"
        },
        "id": "-VCzmIHcgA2P",
        "outputId": "d21a1479-26c7-4547-8f3a-1559157db14c",
        "pycharm": {
          "name": "#%%\n"
        }
      },
      "outputs": [],
      "source": [
        "# load your data here\n",
        "df_train = pd.read_csv('data/train.csv')\n",
        "df_test = pd.read_csv('data/test.csv')"
      ]
    },
    {
      "cell_type": "code",
      "execution_count": 7,
      "metadata": {
        "id": "Zpe46g9NiAy5",
        "pycharm": {
          "name": "#%%\n"
        }
      },
      "outputs": [],
      "source": [
        "# clean and treat the data here\n",
        "remove = ['HS_CPF', 'ORIENTACAO_SEXUAL', 'RELIGIAO']\n",
        "df_train.drop(remove, axis=1, inplace=True)\n",
        "df_test.drop(remove, axis=1, inplace=True)\n",
        "df_train.replace(-9999, np.nan, inplace=True)\n",
        "df_test.replace(-9999, np.nan, inplace=True)\n",
        "df_train.replace(-9998, np.nan, inplace=True)\n",
        "df_test.replace(-9998, np.nan, inplace=True)"
      ]
    },
    {
      "cell_type": "code",
      "execution_count": 8,
      "metadata": {
        "colab": {
          "base_uri": "https://localhost:8080/",
          "height": 299
        },
        "id": "3D-HZ6O0GKt-",
        "outputId": "74e30236-457c-4c49-863d-e952460519f2"
      },
      "outputs": [
        {
          "data": {
            "text/html": [
              "<div>\n",
              "<style scoped>\n",
              "    .dataframe tbody tr th:only-of-type {\n",
              "        vertical-align: middle;\n",
              "    }\n",
              "\n",
              "    .dataframe tbody tr th {\n",
              "        vertical-align: top;\n",
              "    }\n",
              "\n",
              "    .dataframe thead th {\n",
              "        text-align: right;\n",
              "    }\n",
              "</style>\n",
              "<table border=\"1\" class=\"dataframe\">\n",
              "  <thead>\n",
              "    <tr style=\"text-align: right;\">\n",
              "      <th></th>\n",
              "      <th>TEMPOCPF</th>\n",
              "      <th>DISTCENTROCIDADE</th>\n",
              "      <th>DISTZONARISCO</th>\n",
              "      <th>QTDENDERECO</th>\n",
              "      <th>QTDEMAIL</th>\n",
              "      <th>QTDCELULAR</th>\n",
              "      <th>CELULARPROCON</th>\n",
              "      <th>QTDFONEFIXO</th>\n",
              "      <th>TELFIXOPROCON</th>\n",
              "      <th>INDICEEMPREGO</th>\n",
              "      <th>...</th>\n",
              "      <th>QTDDECLARACAOISENTA</th>\n",
              "      <th>QTDDECLARACAO10</th>\n",
              "      <th>QTDDECLARACAOREST10</th>\n",
              "      <th>QTDDECLARACAOPAGAR10</th>\n",
              "      <th>RESTITUICAOAGENCIAALTARENDA</th>\n",
              "      <th>BOLSAFAMILIA</th>\n",
              "      <th>ANOSULTIMARESTITUICAO</th>\n",
              "      <th>ANOSULTIMADECLARACAO</th>\n",
              "      <th>ANOSULTIMADECLARACAOPAGAR</th>\n",
              "      <th>TARGET</th>\n",
              "    </tr>\n",
              "  </thead>\n",
              "  <tbody>\n",
              "    <tr>\n",
              "      <th>0</th>\n",
              "      <td>11.0</td>\n",
              "      <td>3338.0</td>\n",
              "      <td>166753.0</td>\n",
              "      <td>2.0</td>\n",
              "      <td>0.0</td>\n",
              "      <td>1.0</td>\n",
              "      <td>0.0</td>\n",
              "      <td>0.0</td>\n",
              "      <td>0.0</td>\n",
              "      <td>0.0</td>\n",
              "      <td>...</td>\n",
              "      <td>0.0</td>\n",
              "      <td>0.0</td>\n",
              "      <td>0.0</td>\n",
              "      <td>0.0</td>\n",
              "      <td>0.0</td>\n",
              "      <td>0.0</td>\n",
              "      <td>NaN</td>\n",
              "      <td>NaN</td>\n",
              "      <td>NaN</td>\n",
              "      <td>1.0</td>\n",
              "    </tr>\n",
              "    <tr>\n",
              "      <th>1</th>\n",
              "      <td>19.0</td>\n",
              "      <td>5792.0</td>\n",
              "      <td>4820.0</td>\n",
              "      <td>1.0</td>\n",
              "      <td>1.0</td>\n",
              "      <td>0.0</td>\n",
              "      <td>0.0</td>\n",
              "      <td>2.0</td>\n",
              "      <td>0.0</td>\n",
              "      <td>0.0</td>\n",
              "      <td>...</td>\n",
              "      <td>0.0</td>\n",
              "      <td>0.0</td>\n",
              "      <td>0.0</td>\n",
              "      <td>0.0</td>\n",
              "      <td>0.0</td>\n",
              "      <td>1.0</td>\n",
              "      <td>NaN</td>\n",
              "      <td>NaN</td>\n",
              "      <td>NaN</td>\n",
              "      <td>0.0</td>\n",
              "    </tr>\n",
              "    <tr>\n",
              "      <th>2</th>\n",
              "      <td>26.0</td>\n",
              "      <td>1550.0</td>\n",
              "      <td>502.0</td>\n",
              "      <td>1.0</td>\n",
              "      <td>0.0</td>\n",
              "      <td>2.0</td>\n",
              "      <td>0.0</td>\n",
              "      <td>1.0</td>\n",
              "      <td>0.0</td>\n",
              "      <td>4.0</td>\n",
              "      <td>...</td>\n",
              "      <td>4.0</td>\n",
              "      <td>2.0</td>\n",
              "      <td>0.0</td>\n",
              "      <td>0.0</td>\n",
              "      <td>0.0</td>\n",
              "      <td>0.0</td>\n",
              "      <td>NaN</td>\n",
              "      <td>4.0</td>\n",
              "      <td>NaN</td>\n",
              "      <td>0.0</td>\n",
              "    </tr>\n",
              "    <tr>\n",
              "      <th>3</th>\n",
              "      <td>18.0</td>\n",
              "      <td>0.0</td>\n",
              "      <td>535010.0</td>\n",
              "      <td>2.0</td>\n",
              "      <td>0.0</td>\n",
              "      <td>0.0</td>\n",
              "      <td>0.0</td>\n",
              "      <td>2.0</td>\n",
              "      <td>0.0</td>\n",
              "      <td>0.0</td>\n",
              "      <td>...</td>\n",
              "      <td>1.0</td>\n",
              "      <td>7.0</td>\n",
              "      <td>0.0</td>\n",
              "      <td>1.0</td>\n",
              "      <td>0.0</td>\n",
              "      <td>0.0</td>\n",
              "      <td>NaN</td>\n",
              "      <td>2.0</td>\n",
              "      <td>7.0</td>\n",
              "      <td>0.0</td>\n",
              "    </tr>\n",
              "    <tr>\n",
              "      <th>4</th>\n",
              "      <td>20.0</td>\n",
              "      <td>0.0</td>\n",
              "      <td>2528.0</td>\n",
              "      <td>3.0</td>\n",
              "      <td>0.0</td>\n",
              "      <td>1.0</td>\n",
              "      <td>0.0</td>\n",
              "      <td>3.0</td>\n",
              "      <td>0.0</td>\n",
              "      <td>6.0</td>\n",
              "      <td>...</td>\n",
              "      <td>0.0</td>\n",
              "      <td>0.0</td>\n",
              "      <td>0.0</td>\n",
              "      <td>0.0</td>\n",
              "      <td>0.0</td>\n",
              "      <td>0.0</td>\n",
              "      <td>NaN</td>\n",
              "      <td>15.0</td>\n",
              "      <td>15.0</td>\n",
              "      <td>0.0</td>\n",
              "    </tr>\n",
              "  </tbody>\n",
              "</table>\n",
              "<p>5 rows × 67 columns</p>\n",
              "</div>"
            ],
            "text/plain": [
              "   TEMPOCPF  DISTCENTROCIDADE  DISTZONARISCO  QTDENDERECO  QTDEMAIL  \\\n",
              "0      11.0            3338.0       166753.0          2.0       0.0   \n",
              "1      19.0            5792.0         4820.0          1.0       1.0   \n",
              "2      26.0            1550.0          502.0          1.0       0.0   \n",
              "3      18.0               0.0       535010.0          2.0       0.0   \n",
              "4      20.0               0.0         2528.0          3.0       0.0   \n",
              "\n",
              "   QTDCELULAR  CELULARPROCON  QTDFONEFIXO  TELFIXOPROCON  INDICEEMPREGO  ...  \\\n",
              "0         1.0            0.0          0.0            0.0            0.0  ...   \n",
              "1         0.0            0.0          2.0            0.0            0.0  ...   \n",
              "2         2.0            0.0          1.0            0.0            4.0  ...   \n",
              "3         0.0            0.0          2.0            0.0            0.0  ...   \n",
              "4         1.0            0.0          3.0            0.0            6.0  ...   \n",
              "\n",
              "   QTDDECLARACAOISENTA  QTDDECLARACAO10  QTDDECLARACAOREST10  \\\n",
              "0                  0.0              0.0                  0.0   \n",
              "1                  0.0              0.0                  0.0   \n",
              "2                  4.0              2.0                  0.0   \n",
              "3                  1.0              7.0                  0.0   \n",
              "4                  0.0              0.0                  0.0   \n",
              "\n",
              "   QTDDECLARACAOPAGAR10  RESTITUICAOAGENCIAALTARENDA  BOLSAFAMILIA  \\\n",
              "0                   0.0                          0.0           0.0   \n",
              "1                   0.0                          0.0           1.0   \n",
              "2                   0.0                          0.0           0.0   \n",
              "3                   1.0                          0.0           0.0   \n",
              "4                   0.0                          0.0           0.0   \n",
              "\n",
              "   ANOSULTIMARESTITUICAO  ANOSULTIMADECLARACAO  ANOSULTIMADECLARACAOPAGAR  \\\n",
              "0                    NaN                   NaN                        NaN   \n",
              "1                    NaN                   NaN                        NaN   \n",
              "2                    NaN                   4.0                        NaN   \n",
              "3                    NaN                   2.0                        7.0   \n",
              "4                    NaN                  15.0                       15.0   \n",
              "\n",
              "   TARGET  \n",
              "0     1.0  \n",
              "1     0.0  \n",
              "2     0.0  \n",
              "3     0.0  \n",
              "4     0.0  \n",
              "\n",
              "[5 rows x 67 columns]"
            ]
          },
          "execution_count": 8,
          "metadata": {},
          "output_type": "execute_result"
        }
      ],
      "source": [
        "df_train.head(5)"
      ]
    },
    {
      "cell_type": "code",
      "execution_count": 9,
      "metadata": {
        "id": "Y7WshR3nmZkL",
        "pycharm": {
          "name": "#%%\n"
        }
      },
      "outputs": [],
      "source": [
        "# use as many code and text cells as you wish"
      ]
    },
    {
      "cell_type": "markdown",
      "metadata": {
        "id": "xX9sOXW1gOCU",
        "pycharm": {
          "name": "#%% md\n"
        }
      },
      "source": [
        "# Univariate data analysis"
      ]
    },
    {
      "cell_type": "markdown",
      "metadata": {
        "id": "EQljrblLzQQz",
        "pycharm": {
          "name": "#%% md\n"
        }
      },
      "source": [
        "In this section, you should perform univariate data analysis on at least 20 variables. \n",
        "\n",
        "In the end, you should describe the main variables that are of your interest, and these should be accounted for in the next sections of the report.\n",
        "The definition of each variable chosen should be clarified, so arbitrary selections are **not** accepted at this point.\n",
        "\n",
        "For each variable plotted, make sure you determine the following:\n",
        "1. The distribution of the data (gaussian, binomial, exponential, etc)\n",
        "2. Skew\n",
        "3. Kurtosis\n",
        "4. Mean, standard deviation, and what they stand for in the context of the dataset\n",
        "\n",
        "Regardless of the type of the variable being analyzed, make sure you plot it correctly. For instance, make sure scatterplots are not used for categorical data and so forth."
      ]
    },
    {
      "cell_type": "code",
      "execution_count": 10,
      "metadata": {
        "id": "BWS2-FMfgWJR",
        "pycharm": {
          "name": "#%%\n"
        }
      },
      "outputs": [],
      "source": [
        "# place as many cells to plot the visualizations, \n",
        "# as well as to describe the main findings"
      ]
    },
    {
      "cell_type": "markdown",
      "metadata": {
        "id": "vqd2Ibg9rQoW"
      },
      "source": [
        "### Target\n",
        "A propriedade target é o alvo a ser predito no projeto.\n",
        "As instâncias são classificadas entre 0 e 1, sendo o 0 relativo a instâncias adimplentes e 1 aos inadimplentes.\n",
        "A base de dados é composta por aproximadamente 10% de inadimplentes."
      ]
    },
    {
      "cell_type": "code",
      "execution_count": 11,
      "metadata": {
        "colab": {
          "base_uri": "https://localhost:8080/",
          "height": 386
        },
        "id": "Yyrg3_ToBMBs",
        "outputId": "48fb357a-5423-4d4e-c523-ce42fba358b2"
      },
      "outputs": [
        {
          "name": "stderr",
          "output_type": "stream",
          "text": [
            "c:\\Users\\enzod\\anaconda3\\lib\\site-packages\\seaborn\\_decorators.py:36: FutureWarning: Pass the following variable as a keyword arg: x. From version 0.12, the only valid positional argument will be `data`, and passing other arguments without an explicit keyword will result in an error or misinterpretation.\n",
            "  warnings.warn(\n"
          ]
        },
        {
          "data": {
            "text/plain": [
              "0.0    83298\n",
              "1.0     8808\n",
              "Name: TARGET, dtype: int64"
            ]
          },
          "execution_count": 11,
          "metadata": {},
          "output_type": "execute_result"
        },
        {
          "data": {
            "image/png": "[encoded data removed]",
            "text/plain": [
              "<Figure size 432x288 with 1 Axes>"
            ]
          },
          "metadata": {
            "needs_background": "light"
          },
          "output_type": "display_data"
        }
      ],
      "source": [
        "sns.countplot(df_train['TARGET'])\n",
        "df_train['TARGET'].value_counts()"
      ]
    },
    {
      "cell_type": "markdown",
      "metadata": {
        "id": "10L7FIo3raKa"
      },
      "source": [
        "### Estimativa renda\n",
        "Corresponde a renda que a pessoa deverá receber no final do período de um mês. \n",
        "\n",
        "A intenção ao usar esta propriedade é observar alguma correlação entre a faixa salarial e outros fatores que causam a inadimplência de uma pessoa.\n",
        "\n",
        "A maior concentração de dados encontra-se abaixo dos 2000 reais, com assimetria à direita, sendo a mediana um salário de aproximadamente 1000 reais."
      ]
    },
    {
      "cell_type": "markdown",
      "metadata": {
        "id": "10L7FIo3raKa"
      },
      "source": [
        "### Estimativa renda\n",
        "Corresponde a renda que a pessoa deverá receber no final do período de um mês. \n",
        "\n",
        "A intenção ao usar esta propriedade é observar alguma correlação entre a faixa salarial e outros fatores que causam a inadimplência de uma pessoa.\n",
        "\n",
        "A maior concentração de dados encontra-se abaixo dos 2000 reais, com assimetria à direita, sendo a mediana um salário de aproximadamente 1000 reais."
      ]
    },
    {
      "cell_type": "code",
      "execution_count": 12,
      "metadata": {
        "colab": {
          "base_uri": "https://localhost:8080/",
          "height": 334
        },
        "id": "R3aAtC59KGXT",
        "outputId": "58437d7c-6677-494b-ecb4-f62475620b44"
      },
      "outputs": [
        {
          "name": "stderr",
          "output_type": "stream",
          "text": [
            "c:\\Users\\enzod\\anaconda3\\lib\\site-packages\\seaborn\\_decorators.py:36: FutureWarning: Pass the following variable as a keyword arg: x. From version 0.12, the only valid positional argument will be `data`, and passing other arguments without an explicit keyword will result in an error or misinterpretation.\n",
            "  warnings.warn(\n"
          ]
        },
        {
          "data": {
            "image/png": "[encoded data removed]",
            "text/plain": [
              "<Figure size 432x288 with 1 Axes>"
            ]
          },
          "metadata": {
            "needs_background": "light"
          },
          "output_type": "display_data"
        }
      ],
      "source": [
        "sns.violinplot(df_train['ESTIMATIVARENDA'])\n",
        "plt.xlim(0,12000)\n",
        "plt.show()"
      ]
    },
    {
      "cell_type": "markdown",
      "metadata": {
        "id": "35lAw2ivuUZl"
      },
      "source": [
        "### Bolsa família\n",
        "A coluna representa a quantidade de pessoas que recebem auxílio financeiro do governo.\n",
        "\n",
        "Poderá ser relevante ao estudo, tendo em vista que o recebimento do auxílio pode indicar dificuldades financeiras. \n",
        "\n",
        "4% das pessoas da base de dados recebem o auxílio."
      ]
    },
    {
      "cell_type": "code",
      "execution_count": 13,
      "metadata": {
        "colab": {
          "base_uri": "https://localhost:8080/",
          "height": 386
        },
        "id": "1gE3AKVrK3AT",
        "outputId": "e61b6600-878b-4ea5-d87e-653377aebc95"
      },
      "outputs": [
        {
          "name": "stderr",
          "output_type": "stream",
          "text": [
            "c:\\Users\\enzod\\anaconda3\\lib\\site-packages\\seaborn\\_decorators.py:36: FutureWarning: Pass the following variable as a keyword arg: x. From version 0.12, the only valid positional argument will be `data`, and passing other arguments without an explicit keyword will result in an error or misinterpretation.\n",
            "  warnings.warn(\n"
          ]
        },
        {
          "data": {
            "image/png": "[encoded data removed]",
            "text/plain": [
              "<Figure size 432x288 with 1 Axes>"
            ]
          },
          "metadata": {
            "needs_background": "light"
          },
          "output_type": "display_data"
        }
      ],
      "source": [
        "sns.violinplot(df_train['ESTIMATIVARENDA'])\n",
        "plt.xlim(0,12000)\n",
        "plt.show()"
      ]
    },
    {
      "cell_type": "markdown",
      "metadata": {
        "id": "35lAw2ivuUZl"
      },
      "source": [
        "### Bolsa família\n",
        "A coluna representa a quantidade de pessoas que recebem auxílio financeiro do governo.\n",
        "\n",
        "Poderá ser relevante ao estudo, tendo em vista que o recebimento do auxílio pode indicar dificuldades financeiras. \n",
        "\n",
        "4% das pessoas da base de dados recebem o auxílio."
      ]
    },
    {
      "cell_type": "markdown",
      "metadata": {
        "id": "6bagYQowH6d4"
      },
      "source": [
        "### Indice emprego\n",
        "\n",
        "A coluna representa o indice de estabilidade do CPF no emprego em uma escala de valores discretos de 0 a 6, sendo 0 um emprego pouco estável e 6 um emprego muito estável.\n",
        "\n",
        "A hipótese é que uma menor estabilidade no emprego dificulta o pagamento de uma obrigação, por isso a escolha desta propriedade para este estudo.\n",
        "\n",
        "Na base de dados, observa-se a grande maioria das pessoas pertencentes ao grupo 0, com a menor estabilidade de emprego."
      ]
    },
    {
      "cell_type": "code",
      "execution_count": 14,
      "metadata": {
        "colab": {
          "base_uri": "https://localhost:8080/",
          "height": 351
        },
        "id": "sKvFGUBWMac2",
        "outputId": "4978f4ea-4263-409c-dae6-cb17e276ecdf"
      },
      "outputs": [
        {
          "name": "stderr",
          "output_type": "stream",
          "text": [
            "c:\\Users\\enzod\\anaconda3\\lib\\site-packages\\seaborn\\_decorators.py:36: FutureWarning: Pass the following variable as a keyword arg: x. From version 0.12, the only valid positional argument will be `data`, and passing other arguments without an explicit keyword will result in an error or misinterpretation.\n",
            "  warnings.warn(\n"
          ]
        },
        {
          "data": {
            "text/plain": [
              "0.0    87202\n",
              "1.0     3685\n",
              "Name: BOLSAFAMILIA, dtype: int64"
            ]
          },
          "execution_count": 14,
          "metadata": {},
          "output_type": "execute_result"
        },
        {
          "data": {
            "image/png": "[encoded data removed]",
            "text/plain": [
              "<Figure size 432x288 with 1 Axes>"
            ]
          },
          "metadata": {
            "needs_background": "light"
          },
          "output_type": "display_data"
        }
      ],
      "source": [
        "sns.countplot(df_train['BOLSAFAMILIA'])\n",
        "df_train['BOLSAFAMILIA'].value_counts()"
      ]
    },
    {
      "cell_type": "markdown",
      "metadata": {
        "id": "6bagYQowH6d4"
      },
      "source": [
        "### Indice emprego\n",
        "\n",
        "A coluna representa o indice de estabilidade do CPF no emprego em uma escala de valores discretos de 0 a 6, sendo 0 um emprego pouco estável e 6 um emprego muito estável.\n",
        "\n",
        "A hipótese é que uma menor estabilidade no emprego dificulta o pagamento de uma obrigação, por isso a escolha desta propriedade para este estudo.\n",
        "\n",
        "Na base de dados, observa-se a grande maioria das pessoas pertencentes ao grupo 0, com a menor estabilidade de emprego."
      ]
    },
    {
      "cell_type": "code",
      "execution_count": 15,
      "metadata": {
        "colab": {
          "base_uri": "https://localhost:8080/",
          "height": 351
        },
        "id": "sKvFGUBWMac2",
        "outputId": "4978f4ea-4263-409c-dae6-cb17e276ecdf"
      },
      "outputs": [
        {
          "name": "stderr",
          "output_type": "stream",
          "text": [
            "c:\\Users\\enzod\\anaconda3\\lib\\site-packages\\seaborn\\distributions.py:2619: FutureWarning: `distplot` is a deprecated function and will be removed in a future version. Please adapt your code to use either `displot` (a figure-level function with similar flexibility) or `histplot` (an axes-level function for histograms).\n",
            "  warnings.warn(msg, FutureWarning)\n"
          ]
        },
        {
          "data": {
            "text/plain": [
              "<AxesSubplot:xlabel='INDICEEMPREGO'>"
            ]
          },
          "execution_count": 15,
          "metadata": {},
          "output_type": "execute_result"
        },
        {
          "data": {
            "image/png": "[encoded data removed]",
            "text/plain": [
              "<Figure size 432x288 with 1 Axes>"
            ]
          },
          "metadata": {
            "needs_background": "light"
          },
          "output_type": "display_data"
        }
      ],
      "source": [
        "sns.distplot( df_train[\"INDICEEMPREGO\"], hist=True, kde=False, rug=False )"
      ]
    },
    {
      "cell_type": "markdown",
      "metadata": {
        "id": "LUJVeX0gK-oU"
      },
      "source": [
        "### Porte do empregador\n",
        "\n",
        "Indica o porte da empresa em que o CPF trabalha, com valores discretos de 0 a 4, sendo 4 o maior porte e 0, o menor.\n",
        "\n",
        "A hipótese é de que uma pessoa que trabalha numa empresa de grande porte terá maior probabilidade de receber o salário em dia do que aquela que trabalha para uma empresa de pequeno porte ou é autônoma, sendo menos provável que seja inadimplente.\n",
        "\n",
        "Também poderá ser feita a correlação entre o porte da empresa e o indice de estabilidade no emprego.\n",
        "\n",
        "Nesta base de dados, percebe-se a grande maioria das pessoas inseridas no grupo de empregadores de porte 0."
      ]
    },
    {
      "cell_type": "markdown",
      "metadata": {
        "id": "LUJVeX0gK-oU"
      },
      "source": [
        "### Porte do empregador\n",
        "\n",
        "Indica o porte da empresa em que o CPF trabalha, com valores discretos de 0 a 4, sendo 4 o maior porte e 0, o menor.\n",
        "\n",
        "A hipótese é de que uma pessoa que trabalha numa empresa de grande porte terá maior probabilidade de receber o salário em dia do que aquela que trabalha para uma empresa de pequeno porte ou é autônoma, sendo menos provável que seja inadimplente.\n",
        "\n",
        "Também poderá ser feita a correlação entre o porte da empresa e o indice de estabilidade no emprego.\n",
        "\n",
        "Nesta base de dados, percebe-se a grande maioria das pessoas inseridas no grupo de empregadores de porte 0."
      ]
    },
    {
      "cell_type": "code",
      "execution_count": 16,
      "metadata": {
        "colab": {
          "base_uri": "https://localhost:8080/",
          "height": 386
        },
        "id": "6TM5sqKiQYmv",
        "outputId": "4f3bd1f2-e7b5-46e7-93e3-c75ce7a5dd09"
      },
      "outputs": [
        {
          "name": "stderr",
          "output_type": "stream",
          "text": [
            "c:\\Users\\enzod\\anaconda3\\lib\\site-packages\\seaborn\\distributions.py:2103: FutureWarning: The `axis` variable is no longer used and will be removed. Instead, assign variables directly to `x` or `y`.\n",
            "  warnings.warn(msg, FutureWarning)\n"
          ]
        },
        {
          "data": {
            "text/plain": [
              "<AxesSubplot:xlabel='PORTEEMPREGADOR'>"
            ]
          },
          "execution_count": 16,
          "metadata": {},
          "output_type": "execute_result"
        },
        {
          "data": {
            "image/png": "[encoded data removed]",
            "text/plain": [
              "<Figure size 432x288 with 1 Axes>"
            ]
          },
          "metadata": {
            "needs_background": "light"
          },
          "output_type": "display_data"
        }
      ],
      "source": [
        "# PORTEEMPREGADOR\n",
        "df_train['PORTEEMPREGADOR'].unique()\n",
        "sns.distplot(df_train['PORTEEMPREGADOR'],hist=True, kde=False, rug=True)"
      ]
    },
    {
      "cell_type": "markdown",
      "metadata": {},
      "source": [
        "## Tempo CPF"
      ]
    },
    {
      "cell_type": "markdown",
      "metadata": {},
      "source": [
        "Tempo (em anos) desde a emissão do CPF.\n",
        "\n",
        "Os dados se concentram principalmente entre 10 e 24 anos desde a emissão do CPF, enquanto a maior parte dos registros ocorre em 26 anos a partir da emissão do CPF.\n",
        "\n",
        "A assimetria é negativa e a curtose tende a uma curva platicúrtica."
      ]
    },
    {
      "cell_type": "markdown",
      "metadata": {
        "id": "9mVxq5CjbS9V"
      },
      "source": [
        "### SOMARENDACASA\n",
        "A soma presumida de todos os integrantes da casa.\n",
        "\n",
        "Esta coluna foi coletada com a hipotese de que se os membros da casa, possuem uma renda alta, poderiam ajudar a pagar e ou diminuiria as despesas gerais da casa, evitando a inadimplencia de todos os integrantes.\n",
        "\n",
        "Com os estudos dos dados, foi possível observar que a mediana da renda é cerca de 5 mil e os outliers começam a partir de 20 mil\n"
      ]
    },
    {
      "cell_type": "code",
      "execution_count": 17,
      "metadata": {
        "colab": {
          "base_uri": "https://localhost:8080/",
          "height": 351
        },
        "id": "ovMGFhKTbS9W",
        "outputId": "6c71e4d3-29ea-4f06-dcbb-8dc445381d2b"
      },
      "outputs": [
        {
          "name": "stderr",
          "output_type": "stream",
          "text": [
            "c:\\Users\\enzod\\anaconda3\\lib\\site-packages\\seaborn\\_decorators.py:36: FutureWarning: Pass the following variable as a keyword arg: x. From version 0.12, the only valid positional argument will be `data`, and passing other arguments without an explicit keyword will result in an error or misinterpretation.\n",
            "  warnings.warn(\n"
          ]
        },
        {
          "data": {
            "text/plain": [
              "(0.0, 40000.0)"
            ]
          },
          "execution_count": 17,
          "metadata": {},
          "output_type": "execute_result"
        },
        {
          "data": {
            "image/png": "[encoded data removed]",
            "text/plain": [
              "<Figure size 432x288 with 1 Axes>"
            ]
          },
          "metadata": {
            "needs_background": "light"
          },
          "output_type": "display_data"
        }
      ],
      "source": [
        "sns.boxplot(df_train['SOMARENDACASA'])\n",
        "plt.xlim(0,40000)\n",
        "#df_train['SOMARENDACASA'].value_counts()"
      ]
    },
    {
      "cell_type": "markdown",
      "metadata": {
        "id": "J1wwnBqFk7_C"
      },
      "source": [
        "### QTDPESSOASCASA\n",
        "\n",
        "Quantidade de pessoas no household.\n",
        "\n",
        "A intenção em usar esta propriedade é observar alguma correlação entre o número de pessoas na household e outros fatores que causam a inadimplencia, tendo como premissa que o número de pessoas na casa aumenta consideravelmente o gasto com despesas diárias, que podem vir a causar inadimplência.\n",
        "\n",
        "Através dos dados foi possível observar que a mediana de pessoas é de 3 pessoas e a partir de 7 são os outliers"
      ]
    },
    {
      "cell_type": "code",
      "execution_count": 18,
      "metadata": {
        "colab": {
          "base_uri": "https://localhost:8080/",
          "height": 351
        },
        "id": "wl7OxPe3k7_D",
        "outputId": "776d764e-3619-43fe-86de-43f5a77668e9"
      },
      "outputs": [
        {
          "name": "stderr",
          "output_type": "stream",
          "text": [
            "c:\\Users\\enzod\\anaconda3\\lib\\site-packages\\seaborn\\_decorators.py:36: FutureWarning: Pass the following variable as a keyword arg: x. From version 0.12, the only valid positional argument will be `data`, and passing other arguments without an explicit keyword will result in an error or misinterpretation.\n",
            "  warnings.warn(\n"
          ]
        },
        {
          "data": {
            "text/plain": [
              "<AxesSubplot:xlabel='QTDPESSOASCASA'>"
            ]
          },
          "execution_count": 18,
          "metadata": {},
          "output_type": "execute_result"
        },
        {
          "data": {
            "image/png": "[encoded data removed]",
            "text/plain": [
              "<Figure size 432x288 with 1 Axes>"
            ]
          },
          "metadata": {
            "needs_background": "light"
          },
          "output_type": "display_data"
        }
      ],
      "source": [
        "sns.boxplot(df_train['QTDPESSOASCASA'])"
      ]
    },
    {
      "cell_type": "markdown",
      "metadata": {
        "id": "aGwe37yUrmoe"
      },
      "source": [
        "### FUNCIONARIOPUBLICO\n",
        "\n",
        "Flag indicativo se o CPF é um funcionário público.\n",
        "\n",
        "A intenção de usar esse campo é a de que se é um funcionário público, o trabalho é mais estável e sendo assim sua renda também. Sendo assim, podendo se programar melhor\n",
        "\n",
        "Foi possível analisar que em uma maioria esmagadora, não são funcionários públicos."
      ]
    },
    {
      "cell_type": "code",
      "execution_count": 19,
      "metadata": {
        "colab": {
          "base_uri": "https://localhost:8080/",
          "height": 351
        },
        "id": "jX-5Y5qkrmoe",
        "outputId": "bb04a44f-926d-43f3-b797-398d76fac058"
      },
      "outputs": [
        {
          "name": "stderr",
          "output_type": "stream",
          "text": [
            "c:\\Users\\enzod\\anaconda3\\lib\\site-packages\\seaborn\\_decorators.py:36: FutureWarning: Pass the following variable as a keyword arg: x. From version 0.12, the only valid positional argument will be `data`, and passing other arguments without an explicit keyword will result in an error or misinterpretation.\n",
            "  warnings.warn(\n"
          ]
        },
        {
          "data": {
            "text/plain": [
              "<AxesSubplot:xlabel='FUNCIONARIOPUBLICO', ylabel='count'>"
            ]
          },
          "execution_count": 19,
          "metadata": {},
          "output_type": "execute_result"
        },
        {
          "data": {
            "image/png": "[encoded data removed]",
            "text/plain": [
              "<Figure size 432x288 with 1 Axes>"
            ]
          },
          "metadata": {
            "needs_background": "light"
          },
          "output_type": "display_data"
        }
      ],
      "source": [
        "sns.countplot(df_train['FUNCIONARIOPUBLICO'])"
      ]
    },
    {
      "cell_type": "markdown",
      "metadata": {},
      "source": [
        "### MEDIAIDADECASA\n",
        "\n",
        "Idade média dos integrantes do Household"
      ]
    },
    {
      "cell_type": "code",
      "execution_count": 49,
      "metadata": {},
      "outputs": [
        {
          "data": {
            "text/plain": [
              "31.0    1587\n",
              "29.0    1535\n",
              "32.0    1515\n",
              "30.0    1424\n",
              "33.0    1413\n",
              "        ... \n",
              "94.0       1\n",
              "11.0       1\n",
              "90.0       1\n",
              "85.0       1\n",
              "92.0       1\n",
              "Name: MEDIAIDADECASA, Length: 83, dtype: int64"
            ]
          },
          "execution_count": 49,
          "metadata": {},
          "output_type": "execute_result"
        },
        {
          "data": {
            "image/png": "[encoded data removed]",
            "text/plain": [
              "<Figure size 432x288 with 1 Axes>"
            ]
          },
          "metadata": {
            "needs_background": "light"
          },
          "output_type": "display_data"
        }
      ],
      "source": [
        "#sns.boxplot(df_train['MEDIAIDADECASA'])\n",
        "sns.distplot(df_train['MEDIAIDADECASA'], kde=False)\n",
        "plt.xlim(5, 95)\n",
        "df_train['MEDIAIDADECASA'].value_counts(ascending=True)\n"
      ]
    },
    {
      "cell_type": "markdown",
      "metadata": {},
      "source": [
        "### QTDDECLARACAOISENTA\n",
        "\n",
        "Quantas vezes o CPF declarou imposto de renda como isento nos últimos 10 anos"
      ]
    },
    {
      "cell_type": "code",
      "execution_count": 40,
      "metadata": {},
      "outputs": [
        {
          "name": "stderr",
          "output_type": "stream",
          "text": [
            "c:\\Users\\enzod\\anaconda3\\lib\\site-packages\\seaborn\\_decorators.py:36: FutureWarning: Pass the following variable as a keyword arg: x. From version 0.12, the only valid positional argument will be `data`, and passing other arguments without an explicit keyword will result in an error or misinterpretation.\n",
            "  warnings.warn(\n"
          ]
        },
        {
          "data": {
            "text/plain": [
              "<AxesSubplot:xlabel='QTDDECLARACAOISENTA'>"
            ]
          },
          "execution_count": 40,
          "metadata": {},
          "output_type": "execute_result"
        },
        {
          "data": {
            "image/png": "[encoded data removed]",
            "text/plain": [
              "<Figure size 432x288 with 1 Axes>"
            ]
          },
          "metadata": {
            "needs_background": "light"
          },
          "output_type": "display_data"
        }
      ],
      "source": [
        "sns.boxplot(df_train['QTDDECLARACAOISENTA'])"
      ]
    },
    {
      "cell_type": "markdown",
      "metadata": {},
      "source": [
        "### QTDDECLARACAO10\n",
        "\n",
        "Quantas vezes o CPF declarou IRPF nos últimos 10 anos"
      ]
    },
    {
      "cell_type": "code",
      "execution_count": 41,
      "metadata": {},
      "outputs": [
        {
          "name": "stderr",
          "output_type": "stream",
          "text": [
            "c:\\Users\\enzod\\anaconda3\\lib\\site-packages\\seaborn\\_decorators.py:36: FutureWarning: Pass the following variable as a keyword arg: x. From version 0.12, the only valid positional argument will be `data`, and passing other arguments without an explicit keyword will result in an error or misinterpretation.\n",
            "  warnings.warn(\n"
          ]
        },
        {
          "data": {
            "text/plain": [
              "<AxesSubplot:xlabel='QTDDECLARACAO10'>"
            ]
          },
          "execution_count": 41,
          "metadata": {},
          "output_type": "execute_result"
        },
        {
          "data": {
            "image/png": "[encoded data removed]",
            "text/plain": [
              "<Figure size 432x288 with 1 Axes>"
            ]
          },
          "metadata": {
            "needs_background": "light"
          },
          "output_type": "display_data"
        }
      ],
      "source": [
        "sns.boxplot(df_train['QTDDECLARACAO10'])"
      ]
    },
    {
      "cell_type": "markdown",
      "metadata": {
        "id": "cAVrOW1tgQU7",
        "pycharm": {
          "name": "#%% md\n"
        }
      },
      "source": [
        "# Multivariate data analysis"
      ]
    },
    {
      "cell_type": "markdown",
      "metadata": {
        "id": "jD7VaU40z_sN",
        "pycharm": {
          "name": "#%% md\n"
        }
      },
      "source": [
        "In this section, you should plot at least 8 multivariate visualizations. The key here is to investigate underlying correlations and behaviors in the dataset.\n",
        "Naturally, as visualizations are being created, we should end up with obvious results, yet, you should find at least **TWO** non-obvious behavior in data.\n",
        "\n",
        "Please follow these steps for creating your visualizations:\n",
        "1. State an hypothesis. The key here is to explain why you are choosing those specific variables together and what you are expecting to find.\n",
        "2. Determine what kind of visualization is the most suited.\n",
        "3. Report the findings and whether they corroborate or not the aforestated hypothesis.\n",
        "\n",
        "\n",
        "### Hints\n",
        "\n",
        "In this section, make sure you go beyond naive explorations. For instance, try PCA, t-SNE, and even other techniques we have not worked with during the lectures. The key here is to start to develop a critical mindset towards data analysis and our own work.\n",
        "\n",
        "### Important\n",
        "\n",
        "It is strictly forbidden to create multivariate visualizations using variables that were not used in the previous section (univariate analysis)."
      ]
    },
    {
      "cell_type": "code",
      "execution_count": 22,
      "metadata": {
        "id": "fp4ct7TngWmF",
        "pycharm": {
          "name": "#%%\n"
        }
      },
      "outputs": [],
      "source": [
        "# again, feel free to place as many cells to plot the visualizations, \n",
        "# as well as describe to the main findings"
      ]
    },
    {
      "cell_type": "markdown",
      "metadata": {
        "id": "zIduLsDGXVW6"
      },
      "source": [
        "### Porte Empregador vs Indice Emprego\n",
        "\n",
        "A hipótese é que, quanto maior o porte do empregador, maior seria a estabilidade no emprego (indice emprego), porém este comportamento não é necessariamente verdadeiro.\n",
        "\n",
        "O comportamento mais destacado, e esperado, é a correlação forte entre os índices 0 para porte do empregador e 0 para o indice emprego, em que 82% das pessoas com porte do empregador igual a zero, têm indice de emprego também igual a zero.\n",
        "\n",
        "Chama a atenção que, à exceção das pessoas com porte do empregador igual a 4 (máximo), todas se concentram em sua maioria com indice de emprego igual a zero, sendo os outros indices distribuídos de forma mais equivalente.\n",
        "\n",
        "Nos CPF com porte do empregador igual a 4, observa-se uma concentração maior de dados no indice de emprego igual a 5, com os outros indices distribuídos de forma parecida.\n",
        "\n",
        "Ainda assim, apesar de existirem diferenças, elas são mínimas para que se conclua que as variáveis sejam fortemente correlacionadas. Apenas que se a pessoa possuir um porte do empregador igual a zero, o índice de emprego será mais provável de ser também zero, e vice-versa."
      ]
    },
    {
      "cell_type": "code",
      "execution_count": 23,
      "metadata": {
        "colab": {
          "base_uri": "https://localhost:8080/",
          "height": 279
        },
        "id": "X5e1nSLL6OUZ",
        "outputId": "785e2751-b0ca-4daa-9a06-c78067705a41"
      },
      "outputs": [
        {
          "data": {
            "image/png": "[encoded data removed]",
            "text/plain": [
              "<Figure size 432x288 with 2 Axes>"
            ]
          },
          "metadata": {
            "needs_background": "light"
          },
          "output_type": "display_data"
        }
      ],
      "source": [
        "porte = df_train['PORTEEMPREGADOR']\n",
        "indice = df_train['INDICEEMPREGO']\n",
        "ctab = pd.crosstab(porte,indice, normalize='index')\n",
        "sns.heatmap(ctab, annot=True, fmt='.1%')\n",
        "plt.show()"
      ]
    },
    {
      "cell_type": "markdown",
      "metadata": {
        "id": "58LbdQyCGxpr"
      },
      "source": [
        "### Estimativa renda vs Target\n",
        "\n",
        "A hipótese a ser analisada a seguir é que a estimativa de renda pessoal impacta na possibilidade do CPF ser inadimplente, sendo que, quanto menor a renda, maior a probabilidade de inadimplência.\n",
        "\n",
        "Para a análise, a base de dados foi separada em 6 faixas salariais. Nisto observa-se que a maior parte dos inadimplentes (60%) encontra-se na faixa salarial de 0 a 1000 reais. Porém, conforme visto na análise univariada de estimativa de renda, a maior concentração da base de dados encontra-se nesta faixa, então não seria razoável tal comparação.\n",
        "\n",
        "Para obtenção de conclusões mais assertivas então, foram analisadas as quantidades de inadimplentes por faixa salarial.\n",
        "\n",
        "Pode-se comparar a taxa de inadimplência de cada faixa salarial com a porcentagem total de inadimplentes, observada na análise da variável 'TARGET', apresentado anteriormente, em aproximadamente 10%.\n",
        "\n",
        "Observa-se, então, que a faixas salariais de 0-1000 e 1000-2000 possuem uma quantidade de inadimplentes levemente superior à média total, e vai decrescendo conforme aumenta a faixa salarial, confirmando a hipótese proposta.\n",
        "\n",
        "\n"
      ]
    },
    {
      "cell_type": "code",
      "execution_count": 24,
      "metadata": {
        "id": "ac_x1eWARMV5"
      },
      "outputs": [
        {
          "data": {
            "text/html": [
              "<div>\n",
              "<style scoped>\n",
              "    .dataframe tbody tr th:only-of-type {\n",
              "        vertical-align: middle;\n",
              "    }\n",
              "\n",
              "    .dataframe tbody tr th {\n",
              "        vertical-align: top;\n",
              "    }\n",
              "\n",
              "    .dataframe thead th {\n",
              "        text-align: right;\n",
              "    }\n",
              "</style>\n",
              "<table border=\"1\" class=\"dataframe\">\n",
              "  <thead>\n",
              "    <tr style=\"text-align: right;\">\n",
              "      <th></th>\n",
              "      <th>TEMPOCPF</th>\n",
              "      <th>DISTCENTROCIDADE</th>\n",
              "      <th>DISTZONARISCO</th>\n",
              "      <th>QTDENDERECO</th>\n",
              "      <th>QTDEMAIL</th>\n",
              "      <th>QTDCELULAR</th>\n",
              "      <th>CELULARPROCON</th>\n",
              "      <th>QTDFONEFIXO</th>\n",
              "      <th>TELFIXOPROCON</th>\n",
              "      <th>INDICEEMPREGO</th>\n",
              "      <th>...</th>\n",
              "      <th>QTDDECLARACAO10</th>\n",
              "      <th>QTDDECLARACAOREST10</th>\n",
              "      <th>QTDDECLARACAOPAGAR10</th>\n",
              "      <th>RESTITUICAOAGENCIAALTARENDA</th>\n",
              "      <th>BOLSAFAMILIA</th>\n",
              "      <th>ANOSULTIMARESTITUICAO</th>\n",
              "      <th>ANOSULTIMADECLARACAO</th>\n",
              "      <th>ANOSULTIMADECLARACAOPAGAR</th>\n",
              "      <th>TARGET</th>\n",
              "      <th>fxRenda</th>\n",
              "    </tr>\n",
              "  </thead>\n",
              "  <tbody>\n",
              "    <tr>\n",
              "      <th>0</th>\n",
              "      <td>11.0</td>\n",
              "      <td>3338.0</td>\n",
              "      <td>166753.0</td>\n",
              "      <td>2.0</td>\n",
              "      <td>0.0</td>\n",
              "      <td>1.0</td>\n",
              "      <td>0.0</td>\n",
              "      <td>0.0</td>\n",
              "      <td>0.0</td>\n",
              "      <td>0.0</td>\n",
              "      <td>...</td>\n",
              "      <td>0.0</td>\n",
              "      <td>0.0</td>\n",
              "      <td>0.0</td>\n",
              "      <td>0.0</td>\n",
              "      <td>0.0</td>\n",
              "      <td>NaN</td>\n",
              "      <td>NaN</td>\n",
              "      <td>NaN</td>\n",
              "      <td>1.0</td>\n",
              "      <td>(-inf, 1000.0]</td>\n",
              "    </tr>\n",
              "    <tr>\n",
              "      <th>1</th>\n",
              "      <td>19.0</td>\n",
              "      <td>5792.0</td>\n",
              "      <td>4820.0</td>\n",
              "      <td>1.0</td>\n",
              "      <td>1.0</td>\n",
              "      <td>0.0</td>\n",
              "      <td>0.0</td>\n",
              "      <td>2.0</td>\n",
              "      <td>0.0</td>\n",
              "      <td>0.0</td>\n",
              "      <td>...</td>\n",
              "      <td>0.0</td>\n",
              "      <td>0.0</td>\n",
              "      <td>0.0</td>\n",
              "      <td>0.0</td>\n",
              "      <td>1.0</td>\n",
              "      <td>NaN</td>\n",
              "      <td>NaN</td>\n",
              "      <td>NaN</td>\n",
              "      <td>0.0</td>\n",
              "      <td>(-inf, 1000.0]</td>\n",
              "    </tr>\n",
              "    <tr>\n",
              "      <th>2</th>\n",
              "      <td>26.0</td>\n",
              "      <td>1550.0</td>\n",
              "      <td>502.0</td>\n",
              "      <td>1.0</td>\n",
              "      <td>0.0</td>\n",
              "      <td>2.0</td>\n",
              "      <td>0.0</td>\n",
              "      <td>1.0</td>\n",
              "      <td>0.0</td>\n",
              "      <td>4.0</td>\n",
              "      <td>...</td>\n",
              "      <td>2.0</td>\n",
              "      <td>0.0</td>\n",
              "      <td>0.0</td>\n",
              "      <td>0.0</td>\n",
              "      <td>0.0</td>\n",
              "      <td>NaN</td>\n",
              "      <td>4.0</td>\n",
              "      <td>NaN</td>\n",
              "      <td>0.0</td>\n",
              "      <td>(2000.0, 4000.0]</td>\n",
              "    </tr>\n",
              "  </tbody>\n",
              "</table>\n",
              "<p>3 rows × 68 columns</p>\n",
              "</div>"
            ],
            "text/plain": [
              "   TEMPOCPF  DISTCENTROCIDADE  DISTZONARISCO  QTDENDERECO  QTDEMAIL  \\\n",
              "0      11.0            3338.0       166753.0          2.0       0.0   \n",
              "1      19.0            5792.0         4820.0          1.0       1.0   \n",
              "2      26.0            1550.0          502.0          1.0       0.0   \n",
              "\n",
              "   QTDCELULAR  CELULARPROCON  QTDFONEFIXO  TELFIXOPROCON  INDICEEMPREGO  ...  \\\n",
              "0         1.0            0.0          0.0            0.0            0.0  ...   \n",
              "1         0.0            0.0          2.0            0.0            0.0  ...   \n",
              "2         2.0            0.0          1.0            0.0            4.0  ...   \n",
              "\n",
              "   QTDDECLARACAO10  QTDDECLARACAOREST10  QTDDECLARACAOPAGAR10  \\\n",
              "0              0.0                  0.0                   0.0   \n",
              "1              0.0                  0.0                   0.0   \n",
              "2              2.0                  0.0                   0.0   \n",
              "\n",
              "   RESTITUICAOAGENCIAALTARENDA  BOLSAFAMILIA  ANOSULTIMARESTITUICAO  \\\n",
              "0                          0.0           0.0                    NaN   \n",
              "1                          0.0           1.0                    NaN   \n",
              "2                          0.0           0.0                    NaN   \n",
              "\n",
              "   ANOSULTIMADECLARACAO  ANOSULTIMADECLARACAOPAGAR  TARGET           fxRenda  \n",
              "0                   NaN                        NaN     1.0    (-inf, 1000.0]  \n",
              "1                   NaN                        NaN     0.0    (-inf, 1000.0]  \n",
              "2                   4.0                        NaN     0.0  (2000.0, 4000.0]  \n",
              "\n",
              "[3 rows x 68 columns]"
            ]
          },
          "execution_count": 24,
          "metadata": {},
          "output_type": "execute_result"
        }
      ],
      "source": [
        "#criando coluna de faixa de renda\n",
        "df_train['fxRenda'] = pd.cut(df_train['ESTIMATIVARENDA'],\n",
        "                               [-float('inf'), 1000, 2000, 4000, 6000, 10000, float('inf')])\n",
        "df_train.head(3)"
      ]
    },
    {
      "cell_type": "code",
      "execution_count": 25,
      "metadata": {
        "colab": {
          "base_uri": "https://localhost:8080/",
          "height": 283
        },
        "id": "fZOvn9f1a_ME",
        "outputId": "091353c9-e551-47cc-b628-394e4ad2bf98"
      },
      "outputs": [
        {
          "data": {
            "image/png": "[encoded data removed]",
            "text/plain": [
              "<Figure size 432x288 with 2 Axes>"
            ]
          },
          "metadata": {
            "needs_background": "light"
          },
          "output_type": "display_data"
        }
      ],
      "source": [
        "ctab = pd.crosstab([df_train['fxRenda']], \n",
        "                   df_train['TARGET'], normalize='columns')\n",
        "sns.heatmap(ctab, annot=True, fmt='.1%')\n",
        "plt.show()"
      ]
    },
    {
      "cell_type": "code",
      "execution_count": 26,
      "metadata": {
        "colab": {
          "base_uri": "https://localhost:8080/",
          "height": 279
        },
        "id": "fyU2lf-LL_4t",
        "outputId": "07ea9a37-b462-48ee-8a31-ba5732185960"
      },
      "outputs": [
        {
          "data": {
            "image/png": "[encoded data removed]",
            "text/plain": [
              "<Figure size 432x288 with 2 Axes>"
            ]
          },
          "metadata": {
            "needs_background": "light"
          },
          "output_type": "display_data"
        }
      ],
      "source": [
        "ctab = pd.crosstab([df_train['fxRenda']], \n",
        "                   df_train['TARGET'], normalize='index')\n",
        "sns.heatmap(ctab, annot=True, fmt='.1%')\n",
        "plt.show()"
      ]
    },
    {
      "cell_type": "markdown",
      "metadata": {
        "id": "Jw4RqS8qu7Yu"
      },
      "source": [
        "### FUNCIONARIOPUBLICO X TARGET\n",
        "\n",
        "A hipótese a ser analisada a seguir é que caso seja funcionário público, pois cargos públicos possuem mais estabilidade, então a chance de ser inadimplente é menor.\n",
        " \n",
        "Com a análise, foi possível observar que dentro dos funcionários públicos 5.5% são inadimplentes e os que não são, 9.7% são inadimplentes sendo um percentual levemente maior."
      ]
    },
    {
      "cell_type": "code",
      "execution_count": 27,
      "metadata": {
        "colab": {
          "base_uri": "https://localhost:8080/",
          "height": 279
        },
        "id": "_t4F0Kuiu7ur",
        "outputId": "d6f59e9b-097e-4e18-d0d5-6a49285dc449"
      },
      "outputs": [
        {
          "data": {
            "image/png": "[encoded data removed]",
            "text/plain": [
              "<Figure size 432x288 with 2 Axes>"
            ]
          },
          "metadata": {
            "needs_background": "light"
          },
          "output_type": "display_data"
        }
      ],
      "source": [
        "porte = df_train['FUNCIONARIOPUBLICO']\n",
        "indice = df_train['TARGET']\n",
        "ctab = pd.crosstab(porte,indice, normalize='index')\n",
        "sns.heatmap(ctab, annot=True, fmt='.1%')\n",
        "plt.show()"
      ]
    },
    {
      "cell_type": "markdown",
      "metadata": {
        "id": "qgJAoqiOu8ET"
      },
      "source": [
        "### SOMARENDACASA X TARGET\n",
        "\n",
        " \n",
        "A hipótese a ser analisada a seguir é que a estimativa de renda da casa impacta na possibilidade do CPF ser inadimplente.\n",
        "Para a análise, a base foi separada em 9 faixas salariais, sendo estas, decididas a partir do valor simétrico observado na análise univariada. Com isso, é possível observar que a maior parte dos inadimplentes possuem renda de até 5 mil.\n",
        " \n",
        "Observa-se que o percentual de inadimplentes começa a cair consideravelmente quando a renda passa de 5 mil.\n",
        "\n"
      ]
    },
    {
      "cell_type": "code",
      "execution_count": 28,
      "metadata": {
        "colab": {
          "base_uri": "https://localhost:8080/",
          "height": 279
        },
        "id": "jhoC6Q5gu8W9",
        "outputId": "cc2682ce-6c77-4cbf-8aab-8ccc5ff5da62"
      },
      "outputs": [
        {
          "data": {
            "image/png": "[encoded data removed]",
            "text/plain": [
              "<Figure size 432x288 with 2 Axes>"
            ]
          },
          "metadata": {
            "needs_background": "light"
          },
          "output_type": "display_data"
        }
      ],
      "source": [
        "porte = pd.cut(df_train['SOMARENDACASA'],\n",
        "                               [-float('inf'), 1000, 5000,6000, 7000, 8000, 9000, 10000, 11000, float('inf')])\n",
        "indice = df_train['TARGET']\n",
        "ctab = pd.crosstab(porte,indice, normalize='index')\n",
        "sns.heatmap(ctab, annot=True, fmt='.1%')\n",
        "plt.show()"
      ]
    },
    {
      "cell_type": "markdown",
      "metadata": {
        "id": "zIduLsDGXVW6"
      },
      "source": [
        "### Porte Empregador vs Indice Emprego\n",
        "\n",
        "A hipótese é que, quanto maior o porte do empregador, maior seria a estabilidade no emprego (indice emprego), porém este comportamento não é necessariamente verdadeiro.\n",
        "\n",
        "O comportamento mais destacado, e esperado, é a correlação forte entre os índices 0 para porte do empregador e 0 para o indice emprego, em que 82% das pessoas com porte do empregador igual a zero, têm indice de emprego também igual a zero.\n",
        "\n",
        "Chama a atenção que, à exceção das pessoas com porte do empregador igual a 4 (máximo), todas se concentram em sua maioria com indice de emprego igual a zero, sendo os outros indices distribuídos de forma mais equivalente.\n",
        "\n",
        "Nos CPF com porte do empregador igual a 4, observa-se uma concentração maior de dados no indice de emprego igual a 5, com os outros indices distribuídos de forma parecida.\n",
        "\n",
        "Ainda assim, apesar de existirem diferenças, elas são mínimas para que se conclua que as variáveis sejam fortemente correlacionadas. Apenas que se a pessoa possuir um porte do empregador igual a zero, o índice de emprego será mais provável de ser também zero, e vice-versa."
      ]
    },
    {
      "cell_type": "code",
      "execution_count": 29,
      "metadata": {
        "colab": {
          "base_uri": "https://localhost:8080/",
          "height": 279
        },
        "id": "X5e1nSLL6OUZ",
        "outputId": "785e2751-b0ca-4daa-9a06-c78067705a41"
      },
      "outputs": [
        {
          "data": {
            "image/png": "[encoded data removed]",
            "text/plain": [
              "<Figure size 432x288 with 2 Axes>"
            ]
          },
          "metadata": {
            "needs_background": "light"
          },
          "output_type": "display_data"
        }
      ],
      "source": [
        "porte = df_train['PORTEEMPREGADOR']\n",
        "indice = df_train['INDICEEMPREGO']\n",
        "ctab = pd.crosstab(porte,indice, normalize='index')\n",
        "sns.heatmap(ctab, annot=True, fmt='.1%')\n",
        "plt.show()"
      ]
    },
    {
      "cell_type": "markdown",
      "metadata": {
        "id": "58LbdQyCGxpr"
      },
      "source": [
        "### Estimativa renda vs Target\n",
        "\n",
        "A hipótese a ser analisada a seguir é que a estimativa de renda pessoal impacta na possibilidade do CPF ser inadimplente, sendo que, quanto menor a renda, maior a probabilidade de inadimplência.\n",
        "\n",
        "Para a análise, a base de dados foi separada em 6 faixas salariais. Nisto observa-se que a maior parte dos inadimplentes (60%) encontra-se na faixa salarial de 0 a 1000 reais. Porém, conforme visto na análise univariada de estimativa de renda, a maior concentração da base de dados encontra-se nesta faixa, então não seria razoável tal comparação.\n",
        "\n",
        "Para obtenção de conclusões mais assertivas então, foram analisadas as quantidades de inadimplentes por faixa salarial.\n",
        "\n",
        "Pode-se comparar a taxa de inadimplência de cada faixa salarial com a porcentagem total de inadimplentes, observada na análise da variável 'TARGET', apresentado anteriormente, em aproximadamente 10%.\n",
        "\n",
        "Observa-se, então, que a faixas salariais de 0-1000 e 1000-2000 possuem uma quantidade de inadimplentes levemente superior à média total, e vai decrescendo conforme aumenta a faixa salarial, confirmando a hipótese proposta.\n",
        "\n",
        "\n"
      ]
    },
    {
      "cell_type": "code",
      "execution_count": 30,
      "metadata": {
        "id": "ac_x1eWARMV5"
      },
      "outputs": [
        {
          "data": {
            "text/html": [
              "<div>\n",
              "<style scoped>\n",
              "    .dataframe tbody tr th:only-of-type {\n",
              "        vertical-align: middle;\n",
              "    }\n",
              "\n",
              "    .dataframe tbody tr th {\n",
              "        vertical-align: top;\n",
              "    }\n",
              "\n",
              "    .dataframe thead th {\n",
              "        text-align: right;\n",
              "    }\n",
              "</style>\n",
              "<table border=\"1\" class=\"dataframe\">\n",
              "  <thead>\n",
              "    <tr style=\"text-align: right;\">\n",
              "      <th></th>\n",
              "      <th>TEMPOCPF</th>\n",
              "      <th>DISTCENTROCIDADE</th>\n",
              "      <th>DISTZONARISCO</th>\n",
              "      <th>QTDENDERECO</th>\n",
              "      <th>QTDEMAIL</th>\n",
              "      <th>QTDCELULAR</th>\n",
              "      <th>CELULARPROCON</th>\n",
              "      <th>QTDFONEFIXO</th>\n",
              "      <th>TELFIXOPROCON</th>\n",
              "      <th>INDICEEMPREGO</th>\n",
              "      <th>...</th>\n",
              "      <th>QTDDECLARACAO10</th>\n",
              "      <th>QTDDECLARACAOREST10</th>\n",
              "      <th>QTDDECLARACAOPAGAR10</th>\n",
              "      <th>RESTITUICAOAGENCIAALTARENDA</th>\n",
              "      <th>BOLSAFAMILIA</th>\n",
              "      <th>ANOSULTIMARESTITUICAO</th>\n",
              "      <th>ANOSULTIMADECLARACAO</th>\n",
              "      <th>ANOSULTIMADECLARACAOPAGAR</th>\n",
              "      <th>TARGET</th>\n",
              "      <th>fxRenda</th>\n",
              "    </tr>\n",
              "  </thead>\n",
              "  <tbody>\n",
              "    <tr>\n",
              "      <th>0</th>\n",
              "      <td>11.0</td>\n",
              "      <td>3338.0</td>\n",
              "      <td>166753.0</td>\n",
              "      <td>2.0</td>\n",
              "      <td>0.0</td>\n",
              "      <td>1.0</td>\n",
              "      <td>0.0</td>\n",
              "      <td>0.0</td>\n",
              "      <td>0.0</td>\n",
              "      <td>0.0</td>\n",
              "      <td>...</td>\n",
              "      <td>0.0</td>\n",
              "      <td>0.0</td>\n",
              "      <td>0.0</td>\n",
              "      <td>0.0</td>\n",
              "      <td>0.0</td>\n",
              "      <td>NaN</td>\n",
              "      <td>NaN</td>\n",
              "      <td>NaN</td>\n",
              "      <td>1.0</td>\n",
              "      <td>(-inf, 1000.0]</td>\n",
              "    </tr>\n",
              "    <tr>\n",
              "      <th>1</th>\n",
              "      <td>19.0</td>\n",
              "      <td>5792.0</td>\n",
              "      <td>4820.0</td>\n",
              "      <td>1.0</td>\n",
              "      <td>1.0</td>\n",
              "      <td>0.0</td>\n",
              "      <td>0.0</td>\n",
              "      <td>2.0</td>\n",
              "      <td>0.0</td>\n",
              "      <td>0.0</td>\n",
              "      <td>...</td>\n",
              "      <td>0.0</td>\n",
              "      <td>0.0</td>\n",
              "      <td>0.0</td>\n",
              "      <td>0.0</td>\n",
              "      <td>1.0</td>\n",
              "      <td>NaN</td>\n",
              "      <td>NaN</td>\n",
              "      <td>NaN</td>\n",
              "      <td>0.0</td>\n",
              "      <td>(-inf, 1000.0]</td>\n",
              "    </tr>\n",
              "    <tr>\n",
              "      <th>2</th>\n",
              "      <td>26.0</td>\n",
              "      <td>1550.0</td>\n",
              "      <td>502.0</td>\n",
              "      <td>1.0</td>\n",
              "      <td>0.0</td>\n",
              "      <td>2.0</td>\n",
              "      <td>0.0</td>\n",
              "      <td>1.0</td>\n",
              "      <td>0.0</td>\n",
              "      <td>4.0</td>\n",
              "      <td>...</td>\n",
              "      <td>2.0</td>\n",
              "      <td>0.0</td>\n",
              "      <td>0.0</td>\n",
              "      <td>0.0</td>\n",
              "      <td>0.0</td>\n",
              "      <td>NaN</td>\n",
              "      <td>4.0</td>\n",
              "      <td>NaN</td>\n",
              "      <td>0.0</td>\n",
              "      <td>(2000.0, 4000.0]</td>\n",
              "    </tr>\n",
              "  </tbody>\n",
              "</table>\n",
              "<p>3 rows × 68 columns</p>\n",
              "</div>"
            ],
            "text/plain": [
              "   TEMPOCPF  DISTCENTROCIDADE  DISTZONARISCO  QTDENDERECO  QTDEMAIL  \\\n",
              "0      11.0            3338.0       166753.0          2.0       0.0   \n",
              "1      19.0            5792.0         4820.0          1.0       1.0   \n",
              "2      26.0            1550.0          502.0          1.0       0.0   \n",
              "\n",
              "   QTDCELULAR  CELULARPROCON  QTDFONEFIXO  TELFIXOPROCON  INDICEEMPREGO  ...  \\\n",
              "0         1.0            0.0          0.0            0.0            0.0  ...   \n",
              "1         0.0            0.0          2.0            0.0            0.0  ...   \n",
              "2         2.0            0.0          1.0            0.0            4.0  ...   \n",
              "\n",
              "   QTDDECLARACAO10  QTDDECLARACAOREST10  QTDDECLARACAOPAGAR10  \\\n",
              "0              0.0                  0.0                   0.0   \n",
              "1              0.0                  0.0                   0.0   \n",
              "2              2.0                  0.0                   0.0   \n",
              "\n",
              "   RESTITUICAOAGENCIAALTARENDA  BOLSAFAMILIA  ANOSULTIMARESTITUICAO  \\\n",
              "0                          0.0           0.0                    NaN   \n",
              "1                          0.0           1.0                    NaN   \n",
              "2                          0.0           0.0                    NaN   \n",
              "\n",
              "   ANOSULTIMADECLARACAO  ANOSULTIMADECLARACAOPAGAR  TARGET           fxRenda  \n",
              "0                   NaN                        NaN     1.0    (-inf, 1000.0]  \n",
              "1                   NaN                        NaN     0.0    (-inf, 1000.0]  \n",
              "2                   4.0                        NaN     0.0  (2000.0, 4000.0]  \n",
              "\n",
              "[3 rows x 68 columns]"
            ]
          },
          "execution_count": 30,
          "metadata": {},
          "output_type": "execute_result"
        }
      ],
      "source": [
        "#criando coluna de faixa de renda\n",
        "df_train['fxRenda'] = pd.cut(df_train['ESTIMATIVARENDA'],\n",
        "                               [-float('inf'), 1000, 2000, 4000, 6000, 10000, float('inf')])\n",
        "df_train.head(3)"
      ]
    },
    {
      "cell_type": "code",
      "execution_count": 31,
      "metadata": {
        "colab": {
          "base_uri": "https://localhost:8080/",
          "height": 283
        },
        "id": "fZOvn9f1a_ME",
        "outputId": "091353c9-e551-47cc-b628-394e4ad2bf98"
      },
      "outputs": [
        {
          "data": {
            "image/png": "[encoded data removed]",
            "text/plain": [
              "<Figure size 432x288 with 2 Axes>"
            ]
          },
          "metadata": {
            "needs_background": "light"
          },
          "output_type": "display_data"
        }
      ],
      "source": [
        "ctab = pd.crosstab([df_train['fxRenda']], \n",
        "                   df_train['TARGET'], normalize='columns')\n",
        "sns.heatmap(ctab, annot=True, fmt='.1%')\n",
        "plt.show()"
      ]
    },
    {
      "cell_type": "code",
      "execution_count": 32,
      "metadata": {
        "colab": {
          "base_uri": "https://localhost:8080/",
          "height": 279
        },
        "id": "fyU2lf-LL_4t",
        "outputId": "07ea9a37-b462-48ee-8a31-ba5732185960"
      },
      "outputs": [
        {
          "data": {
            "image/png": "[encoded data removed]",
            "text/plain": [
              "<Figure size 432x288 with 2 Axes>"
            ]
          },
          "metadata": {
            "needs_background": "light"
          },
          "output_type": "display_data"
        }
      ],
      "source": [
        "ctab = pd.crosstab([df_train['fxRenda']], \n",
        "                   df_train['TARGET'], normalize='index')\n",
        "sns.heatmap(ctab, annot=True, fmt='.1%')\n",
        "plt.show()"
      ]
    },
    {
      "cell_type": "markdown",
      "metadata": {
        "id": "ehWz8rAcgZ0c",
        "pycharm": {
          "name": "#%% md\n"
        }
      },
      "source": [
        "# Final Plots"
      ]
    },
    {
      "cell_type": "markdown",
      "metadata": {
        "id": "OHyF3RvU2q9r",
        "pycharm": {
          "name": "#%% md\n"
        }
      },
      "source": [
        "In this section, you need to enhance 3 multivariate visualizations that were presented in the previous section of the report.\n",
        "The key here is to enhance these visualizations with the goal of presenting them for an audience that is not familiar with the dataset used or with data analysis.\n",
        "**Therefore, make sure that its size, colors, textures, etc, are appropriate are convey the right information to the audience.**\n",
        "\n",
        "For your final plots, make sure you follow these steps:\n",
        "1. Present the plot\n",
        "2. Provide a description of the visualization, including the main findings that we can extract from it\n",
        "\n",
        "\n",
        "**Hint: take a look at the checklist also made available based on the work of Evergreen.**"
      ]
    },
    {
      "cell_type": "code",
      "execution_count": 33,
      "metadata": {
        "id": "K90_0h6JgfnW",
        "pycharm": {
          "name": "#%%\n"
        }
      },
      "outputs": [],
      "source": [
        "# your code goes here"
      ]
    },
    {
      "cell_type": "markdown",
      "metadata": {
        "id": "Ua7B5nTmgbN7",
        "pycharm": {
          "name": "#%% md\n"
        }
      },
      "source": [
        "# Digest"
      ]
    },
    {
      "cell_type": "markdown",
      "metadata": {
        "id": "YJ0cqdoj4Lg7",
        "pycharm": {
          "name": "#%% md\n"
        }
      },
      "source": [
        "In this section you should write down all the main findings of this exploratory data analysis. Furthermore, you should provide a reflection about your own work and effort during the module, highlighting what you believe you have done well and what you should have done differently. This digest should have at least 2500 characters (no spaces)."
      ]
    },
    {
      "cell_type": "markdown",
      "metadata": {
        "id": "NQWFN0TEPUzp",
        "pycharm": {
          "name": "#%% md\n"
        }
      },
      "source": [
        "```\n",
        "Add your text here.\n",
        "```"
      ]
    },
    {
      "cell_type": "markdown",
      "metadata": {
        "id": "_CaFQEil1F6Q",
        "pycharm": {
          "name": "#%% md\n"
        }
      },
      "source": [
        "# Final Steps\n"
      ]
    },
    {
      "cell_type": "markdown",
      "metadata": {
        "id": "a2R5Kily1H7f",
        "pycharm": {
          "name": "#%% md\n"
        }
      },
      "source": [
        "1. Save this report as a jupyter notebook (`.ipynb`)\n",
        "2. Save a copy of this report as a PDF file (`.pdf`)\n",
        "3. Copy the dataset\n",
        "4. Zip it all together within a single file (`<your_team_name>.zip`)\n",
        "5. Send it over using Blackboard."
      ]
    },
    {
      "cell_type": "code",
      "execution_count": null,
      "metadata": {
        "id": "e1Z7s-yuEGHV",
        "pycharm": {
          "name": "#%%\n"
        }
      },
      "outputs": [],
      "source": []
    }
  ],
  "metadata": {
    "accelerator": "GPU",
    "colab": {
      "collapsed_sections": [
        "WwufnHfvfSwv",
        "jD7VaU40z_sN",
        "ehWz8rAcgZ0c",
        "Ua7B5nTmgbN7",
        "_CaFQEil1F6Q"
      ],
      "include_colab_link": true,
      "provenance": []
    },
    "kernelspec": {
      "display_name": "Python 3.9.12 ('base')",
      "language": "python",
      "name": "python3"
    },
    "language_info": {
      "codemirror_mode": {
        "name": "ipython",
        "version": 3
      },
      "file_extension": ".py",
      "mimetype": "text/x-python",
      "name": "python",
      "nbconvert_exporter": "python",
      "pygments_lexer": "ipython3",
      "version": "3.9.12"
    },
    "vscode": {
      "interpreter": {
        "hash": "4bd5e498297183011e36a35ec65d6550b5ebb5ccbed68d12cae44ce72d486427"
      }
    }
  },
  "nbformat": 4,
  "nbformat_minor": 0
}
