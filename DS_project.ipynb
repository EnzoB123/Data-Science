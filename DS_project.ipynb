{
  "cells": [
    {
      "cell_type": "markdown",
      "metadata": {
        "id": "view-in-github",
        "colab_type": "text"
      },
      "source": [
        "<a href=\"https://colab.research.google.com/github/ednakatani/Data-Science/blob/marco/DS_project.ipynb\" target=\"_parent\"><img src=\"https://colab.research.google.com/assets/colab-badge.svg\" alt=\"Open In Colab\"/></a>"
      ]
    },
    {
      "cell_type": "markdown",
      "metadata": {
        "id": "WwufnHfvfSwv",
        "pycharm": {
          "name": "#%% md\n"
        }
      },
      "source": [
        "# Final Report - Data Science \n",
        "## Bachelor in Computer Science / PUCPR\n",
        "\n",
        "Professor Jean Paul Barddal\n",
        "\n",
        "`Place your name here` - `and your email here`\n",
        "\n",
        "`Place your name here` - `and your email here`\n",
        "\n",
        "`Place your name here` - `and your email here`\n",
        "\n",
        "`Place your name here` - `and your email here`\n",
        "\n",
        "`Place your name here` - `and your email here`\n",
        "\n",
        "`And the year here`"
      ]
    },
    {
      "cell_type": "markdown",
      "metadata": {
        "id": "68-F6cD9VL-J",
        "pycharm": {
          "name": "#%% md\n"
        }
      },
      "source": [
        "# Import the libs you need"
      ]
    },
    {
      "cell_type": "code",
      "execution_count": null,
      "metadata": {
        "id": "itrIGnaaVQnH",
        "pycharm": {
          "name": "#%%\n"
        }
      },
      "outputs": [],
      "source": [
        "# Import all packages you need here\n",
        "import pandas as pd\n",
        "import numpy as np\n",
        "import matplotlib.pyplot as plt\n",
        "import seaborn as sns\n",
        "# etc"
      ]
    },
    {
      "cell_type": "markdown",
      "metadata": {
        "id": "kTP1pmiPgDY_",
        "pycharm": {
          "name": "#%% md\n"
        }
      },
      "source": [
        "# Loading your data"
      ]
    },
    {
      "cell_type": "markdown",
      "metadata": {
        "id": "DIRXQ53th3am",
        "pycharm": {
          "name": "#%% md\n"
        }
      },
      "source": [
        "Below, load the data using pandas and make all the necessary data cleansing so that all data types are correct for posterior analysis."
      ]
    },
    {
      "cell_type": "code",
      "execution_count": null,
      "metadata": {
        "id": "-VCzmIHcgA2P",
        "pycharm": {
          "name": "#%%\n"
        },
        "colab": {
          "base_uri": "https://localhost:8080/"
        },
        "outputId": "9f2ad01d-8e68-4c7d-a9ca-590b6b0de081"
      },
      "outputs": [
        {
          "output_type": "stream",
          "name": "stdout",
          "text": [
            "--2022-08-16 00:22:56--  https://www.dropbox.com/s/wxz0qd1ngjb1z2d/train.csv\n",
            "Resolving www.dropbox.com (www.dropbox.com)... 162.125.3.18, 2620:100:6030:18::a27d:5012\n",
            "Connecting to www.dropbox.com (www.dropbox.com)|162.125.3.18|:443... connected.\n",
            "HTTP request sent, awaiting response... 301 Moved Permanently\n",
            "Location: /s/raw/wxz0qd1ngjb1z2d/train.csv [following]\n",
            "--2022-08-16 00:22:57--  https://www.dropbox.com/s/raw/wxz0qd1ngjb1z2d/train.csv\n",
            "Reusing existing connection to www.dropbox.com:443.\n",
            "HTTP request sent, awaiting response... 302 Found\n",
            "Location: https://uc762a54843ca108cca96ee8aee0.dl.dropboxusercontent.com/cd/0/inline/BrHDDUZBr-a71YAYe1qJd7GtwDAxTIT1bMCef9fqaPv9jhO6ZS4gQiD7oOt8ccG4UVnNxk7ezmi7_3aiZYuylJtd1XpJECniEdYuFLUyGdb6wp3fCu6XDqqGXAGkTUxzEccNIpQvkXgJi3KfvxqPGs_kUrbCX8t9Y8ckfb0v8jymaQ/file# [following]\n",
            "--2022-08-16 00:22:57--  https://uc762a54843ca108cca96ee8aee0.dl.dropboxusercontent.com/cd/0/inline/BrHDDUZBr-a71YAYe1qJd7GtwDAxTIT1bMCef9fqaPv9jhO6ZS4gQiD7oOt8ccG4UVnNxk7ezmi7_3aiZYuylJtd1XpJECniEdYuFLUyGdb6wp3fCu6XDqqGXAGkTUxzEccNIpQvkXgJi3KfvxqPGs_kUrbCX8t9Y8ckfb0v8jymaQ/file\n",
            "Resolving uc762a54843ca108cca96ee8aee0.dl.dropboxusercontent.com (uc762a54843ca108cca96ee8aee0.dl.dropboxusercontent.com)... 162.125.3.15, 2620:100:6018:15::a27d:30f\n",
            "Connecting to uc762a54843ca108cca96ee8aee0.dl.dropboxusercontent.com (uc762a54843ca108cca96ee8aee0.dl.dropboxusercontent.com)|162.125.3.15|:443... connected.\n",
            "HTTP request sent, awaiting response... 200 OK\n",
            "Length: 24135411 (23M) [text/plain]\n",
            "Saving to: ‘train.csv’\n",
            "\n",
            "train.csv           100%[===================>]  23.02M  74.2MB/s    in 0.3s    \n",
            "\n",
            "2022-08-16 00:22:58 (74.2 MB/s) - ‘train.csv’ saved [24135411/24135411]\n",
            "\n",
            "--2022-08-16 00:22:58--  https://www.dropbox.com/s/0kzeu3azlpfn2v3/test.csv\n",
            "Resolving www.dropbox.com (www.dropbox.com)... 162.125.3.18, 2620:100:6030:18::a27d:5012\n",
            "Connecting to www.dropbox.com (www.dropbox.com)|162.125.3.18|:443... connected.\n",
            "HTTP request sent, awaiting response... 301 Moved Permanently\n",
            "Location: /s/raw/0kzeu3azlpfn2v3/test.csv [following]\n",
            "--2022-08-16 00:22:59--  https://www.dropbox.com/s/raw/0kzeu3azlpfn2v3/test.csv\n",
            "Reusing existing connection to www.dropbox.com:443.\n",
            "HTTP request sent, awaiting response... 302 Found\n",
            "Location: https://uc2379351e1e15d090bd8411520c.dl.dropboxusercontent.com/cd/0/inline/BrECy-8rcG_hVCoCLgA5TcvzaID1V2sFj1FjUUhVN0PuZaE8FsQr5cUmMRa5iSxPK09S_RmuiXZhBtx3EBhwurmhrH04PXZ41t6EjjtBmW6QsDMW2hMN1Y740NIYmfNLEVrjUliMQ-PqXeYRlXxEByaBqCVhBbE-AFzhcQtObDEGfg/file# [following]\n",
            "--2022-08-16 00:22:59--  https://uc2379351e1e15d090bd8411520c.dl.dropboxusercontent.com/cd/0/inline/BrECy-8rcG_hVCoCLgA5TcvzaID1V2sFj1FjUUhVN0PuZaE8FsQr5cUmMRa5iSxPK09S_RmuiXZhBtx3EBhwurmhrH04PXZ41t6EjjtBmW6QsDMW2hMN1Y740NIYmfNLEVrjUliMQ-PqXeYRlXxEByaBqCVhBbE-AFzhcQtObDEGfg/file\n",
            "Resolving uc2379351e1e15d090bd8411520c.dl.dropboxusercontent.com (uc2379351e1e15d090bd8411520c.dl.dropboxusercontent.com)... 162.125.4.15, 2620:100:6018:15::a27d:30f\n",
            "Connecting to uc2379351e1e15d090bd8411520c.dl.dropboxusercontent.com (uc2379351e1e15d090bd8411520c.dl.dropboxusercontent.com)|162.125.4.15|:443... connected.\n",
            "HTTP request sent, awaiting response... 200 OK\n",
            "Length: 10217810 (9.7M) [text/plain]\n",
            "Saving to: ‘test.csv’\n",
            "\n",
            "test.csv            100%[===================>]   9.74M  19.2MB/s    in 0.5s    \n",
            "\n",
            "2022-08-16 00:23:00 (19.2 MB/s) - ‘test.csv’ saved [10217810/10217810]\n",
            "\n"
          ]
        }
      ],
      "source": [
        "# load your data here\n",
        "!wget https://www.dropbox.com/s/wxz0qd1ngjb1z2d/train.csv\n",
        "!wget https://www.dropbox.com/s/0kzeu3azlpfn2v3/test.csv"
      ]
    },
    {
      "cell_type": "code",
      "source": [
        "df_test = pd.read_csv('test.csv')\n",
        "df_train = pd.read_csv('train.csv')"
      ],
      "metadata": {
        "id": "bMr_BbPgGI43"
      },
      "execution_count": null,
      "outputs": []
    },
    {
      "cell_type": "code",
      "source": [
        "df_train.columns"
      ],
      "metadata": {
        "colab": {
          "base_uri": "https://localhost:8080/"
        },
        "id": "XVJhRRWWGrZ4",
        "outputId": "2c9c9aaf-46a2-47ed-f113-0d7d6f923d92"
      },
      "execution_count": null,
      "outputs": [
        {
          "output_type": "execute_result",
          "data": {
            "text/plain": [
              "Index(['HS_CPF', 'TEMPOCPF', 'DISTCENTROCIDADE', 'ORIENTACAO_SEXUAL',\n",
              "       'RELIGIAO', 'DISTZONARISCO', 'QTDENDERECO', 'QTDEMAIL', 'QTDCELULAR',\n",
              "       'CELULARPROCON', 'QTDFONEFIXO', 'TELFIXOPROCON', 'INDICEEMPREGO',\n",
              "       'PORTEEMPREGADOR', 'SOCIOEMPRESA', 'FUNCIONARIOPUBLICO', 'SEGMENTACAO',\n",
              "       'SEGMENTACAOCOBRANCA', 'SEGMENTACAOECOM', 'SEGMENTACAOFIN',\n",
              "       'SEGMENTACAOTELECOM', 'QTDPESSOASCASA', 'MENORRENDACASA',\n",
              "       'MAIORRENDACASA', 'SOMARENDACASA', 'MEDIARENDACASA', 'MAIORIDADECASA',\n",
              "       'MENORIDADECASA', 'MEDIAIDADECASA', 'INDICMENORDEIDADE',\n",
              "       'COBRANCABAIXOCASA', 'COBRANCAMEDIOCASA', 'COBRANCAALTACASA',\n",
              "       'SEGMENTACAOFINBAIXACASA', 'SEGMENTACAOFINMEDIACASA',\n",
              "       'SEGMENTACAOALTACASA', 'BOLSAFAMILIACASA', 'FUNCIONARIOPUBLICOCASA',\n",
              "       'IDADEMEDIACEP', 'PERCENTMASCCEP', 'PERCENTFEMCEP',\n",
              "       'PERCENTANALFABETOCEP', 'PERCENTPRIMARIOCEP', 'PERCENTFUNDAMENTALCEP',\n",
              "       'PERCENTMEDIOCEP', 'PERCENTSUPERIORCEP', 'PERCENTMESTRADOCEP',\n",
              "       'PERCENTDOUTORADOCEP', 'PERCENTBOLSAFAMILIACEP',\n",
              "       'PERCENTFUNCIONARIOPUBLICOCEP', 'MEDIARENDACEP', 'PIBMUNICIPIO',\n",
              "       'QTDUTILITARIOMUNICIPIO', 'QTDAUTOMOVELMUNICIPIO',\n",
              "       'QTDCAMINHAOMUNICIPIO', 'QTDCAMINHONETEMUNICIPIO', 'QTDMOTOMUNICIPIO',\n",
              "       'PERCENTPOPZONAURBANA', 'IDHMUNICIPIO', 'ESTIMATIVARENDA',\n",
              "       'QTDDECLARACAOISENTA', 'QTDDECLARACAO10', 'QTDDECLARACAOREST10',\n",
              "       'QTDDECLARACAOPAGAR10', 'RESTITUICAOAGENCIAALTARENDA', 'BOLSAFAMILIA',\n",
              "       'ANOSULTIMARESTITUICAO', 'ANOSULTIMADECLARACAO',\n",
              "       'ANOSULTIMADECLARACAOPAGAR', 'TARGET'],\n",
              "      dtype='object')"
            ]
          },
          "metadata": {},
          "execution_count": 5
        }
      ]
    },
    {
      "cell_type": "code",
      "execution_count": null,
      "metadata": {
        "id": "Zpe46g9NiAy5",
        "pycharm": {
          "name": "#%%\n"
        }
      },
      "outputs": [],
      "source": [
        "# clean and treat the data here\n",
        "remove = ['HS_CPF', 'ORIENTACAO_SEXUAL', 'RELIGIAO']\n",
        "df_train.drop(remove, axis=1, inplace=True)\n",
        "df_test.drop(remove, axis=1, inplace=True)\n",
        "df_train.replace(-9999, np.nan, inplace=True)\n",
        "df_test.replace(-9999, np.nan, inplace=True)\n",
        "df_train.replace(-9998, np.nan, inplace=True)\n",
        "df_test.replace(-9998, np.nan, inplace=True)"
      ]
    },
    {
      "cell_type": "code",
      "source": [
        "df_train.head(5)"
      ],
      "metadata": {
        "colab": {
          "base_uri": "https://localhost:8080/",
          "height": 299
        },
        "id": "3D-HZ6O0GKt-",
        "outputId": "1aa56d6f-db04-4e16-8445-77c5e8102cbd"
      },
      "execution_count": null,
      "outputs": [
        {
          "output_type": "execute_result",
          "data": {
            "text/plain": [
              "   TEMPOCPF  DISTCENTROCIDADE  DISTZONARISCO  QTDENDERECO  QTDEMAIL  \\\n",
              "0      11.0            3338.0       166753.0          2.0       0.0   \n",
              "1      19.0            5792.0         4820.0          1.0       1.0   \n",
              "2      26.0            1550.0          502.0          1.0       0.0   \n",
              "3      18.0               0.0       535010.0          2.0       0.0   \n",
              "4      20.0               0.0         2528.0          3.0       0.0   \n",
              "\n",
              "   QTDCELULAR  CELULARPROCON  QTDFONEFIXO  TELFIXOPROCON  INDICEEMPREGO  ...  \\\n",
              "0         1.0            0.0          0.0            0.0            0.0  ...   \n",
              "1         0.0            0.0          2.0            0.0            0.0  ...   \n",
              "2         2.0            0.0          1.0            0.0            4.0  ...   \n",
              "3         0.0            0.0          2.0            0.0            0.0  ...   \n",
              "4         1.0            0.0          3.0            0.0            6.0  ...   \n",
              "\n",
              "   QTDDECLARACAOISENTA  QTDDECLARACAO10  QTDDECLARACAOREST10  \\\n",
              "0                  0.0              0.0                  0.0   \n",
              "1                  0.0              0.0                  0.0   \n",
              "2                  4.0              2.0                  0.0   \n",
              "3                  1.0              7.0                  0.0   \n",
              "4                  0.0              0.0                  0.0   \n",
              "\n",
              "   QTDDECLARACAOPAGAR10  RESTITUICAOAGENCIAALTARENDA  BOLSAFAMILIA  \\\n",
              "0                   0.0                          0.0           0.0   \n",
              "1                   0.0                          0.0           1.0   \n",
              "2                   0.0                          0.0           0.0   \n",
              "3                   1.0                          0.0           0.0   \n",
              "4                   0.0                          0.0           0.0   \n",
              "\n",
              "   ANOSULTIMARESTITUICAO  ANOSULTIMADECLARACAO  ANOSULTIMADECLARACAOPAGAR  \\\n",
              "0                    NaN                   NaN                        NaN   \n",
              "1                    NaN                   NaN                        NaN   \n",
              "2                    NaN                   4.0                        NaN   \n",
              "3                    NaN                   2.0                        7.0   \n",
              "4                    NaN                  15.0                       15.0   \n",
              "\n",
              "   TARGET  \n",
              "0     1.0  \n",
              "1     0.0  \n",
              "2     0.0  \n",
              "3     0.0  \n",
              "4     0.0  \n",
              "\n",
              "[5 rows x 67 columns]"
            ],
            "text/html": [
              "\n",
              "  <div id=\"df-11fbb696-f806-4eee-af3d-60b6c3c25387\">\n",
              "    <div class=\"colab-df-container\">\n",
              "      <div>\n",
              "<style scoped>\n",
              "    .dataframe tbody tr th:only-of-type {\n",
              "        vertical-align: middle;\n",
              "    }\n",
              "\n",
              "    .dataframe tbody tr th {\n",
              "        vertical-align: top;\n",
              "    }\n",
              "\n",
              "    .dataframe thead th {\n",
              "        text-align: right;\n",
              "    }\n",
              "</style>\n",
              "<table border=\"1\" class=\"dataframe\">\n",
              "  <thead>\n",
              "    <tr style=\"text-align: right;\">\n",
              "      <th></th>\n",
              "      <th>TEMPOCPF</th>\n",
              "      <th>DISTCENTROCIDADE</th>\n",
              "      <th>DISTZONARISCO</th>\n",
              "      <th>QTDENDERECO</th>\n",
              "      <th>QTDEMAIL</th>\n",
              "      <th>QTDCELULAR</th>\n",
              "      <th>CELULARPROCON</th>\n",
              "      <th>QTDFONEFIXO</th>\n",
              "      <th>TELFIXOPROCON</th>\n",
              "      <th>INDICEEMPREGO</th>\n",
              "      <th>...</th>\n",
              "      <th>QTDDECLARACAOISENTA</th>\n",
              "      <th>QTDDECLARACAO10</th>\n",
              "      <th>QTDDECLARACAOREST10</th>\n",
              "      <th>QTDDECLARACAOPAGAR10</th>\n",
              "      <th>RESTITUICAOAGENCIAALTARENDA</th>\n",
              "      <th>BOLSAFAMILIA</th>\n",
              "      <th>ANOSULTIMARESTITUICAO</th>\n",
              "      <th>ANOSULTIMADECLARACAO</th>\n",
              "      <th>ANOSULTIMADECLARACAOPAGAR</th>\n",
              "      <th>TARGET</th>\n",
              "    </tr>\n",
              "  </thead>\n",
              "  <tbody>\n",
              "    <tr>\n",
              "      <th>0</th>\n",
              "      <td>11.0</td>\n",
              "      <td>3338.0</td>\n",
              "      <td>166753.0</td>\n",
              "      <td>2.0</td>\n",
              "      <td>0.0</td>\n",
              "      <td>1.0</td>\n",
              "      <td>0.0</td>\n",
              "      <td>0.0</td>\n",
              "      <td>0.0</td>\n",
              "      <td>0.0</td>\n",
              "      <td>...</td>\n",
              "      <td>0.0</td>\n",
              "      <td>0.0</td>\n",
              "      <td>0.0</td>\n",
              "      <td>0.0</td>\n",
              "      <td>0.0</td>\n",
              "      <td>0.0</td>\n",
              "      <td>NaN</td>\n",
              "      <td>NaN</td>\n",
              "      <td>NaN</td>\n",
              "      <td>1.0</td>\n",
              "    </tr>\n",
              "    <tr>\n",
              "      <th>1</th>\n",
              "      <td>19.0</td>\n",
              "      <td>5792.0</td>\n",
              "      <td>4820.0</td>\n",
              "      <td>1.0</td>\n",
              "      <td>1.0</td>\n",
              "      <td>0.0</td>\n",
              "      <td>0.0</td>\n",
              "      <td>2.0</td>\n",
              "      <td>0.0</td>\n",
              "      <td>0.0</td>\n",
              "      <td>...</td>\n",
              "      <td>0.0</td>\n",
              "      <td>0.0</td>\n",
              "      <td>0.0</td>\n",
              "      <td>0.0</td>\n",
              "      <td>0.0</td>\n",
              "      <td>1.0</td>\n",
              "      <td>NaN</td>\n",
              "      <td>NaN</td>\n",
              "      <td>NaN</td>\n",
              "      <td>0.0</td>\n",
              "    </tr>\n",
              "    <tr>\n",
              "      <th>2</th>\n",
              "      <td>26.0</td>\n",
              "      <td>1550.0</td>\n",
              "      <td>502.0</td>\n",
              "      <td>1.0</td>\n",
              "      <td>0.0</td>\n",
              "      <td>2.0</td>\n",
              "      <td>0.0</td>\n",
              "      <td>1.0</td>\n",
              "      <td>0.0</td>\n",
              "      <td>4.0</td>\n",
              "      <td>...</td>\n",
              "      <td>4.0</td>\n",
              "      <td>2.0</td>\n",
              "      <td>0.0</td>\n",
              "      <td>0.0</td>\n",
              "      <td>0.0</td>\n",
              "      <td>0.0</td>\n",
              "      <td>NaN</td>\n",
              "      <td>4.0</td>\n",
              "      <td>NaN</td>\n",
              "      <td>0.0</td>\n",
              "    </tr>\n",
              "    <tr>\n",
              "      <th>3</th>\n",
              "      <td>18.0</td>\n",
              "      <td>0.0</td>\n",
              "      <td>535010.0</td>\n",
              "      <td>2.0</td>\n",
              "      <td>0.0</td>\n",
              "      <td>0.0</td>\n",
              "      <td>0.0</td>\n",
              "      <td>2.0</td>\n",
              "      <td>0.0</td>\n",
              "      <td>0.0</td>\n",
              "      <td>...</td>\n",
              "      <td>1.0</td>\n",
              "      <td>7.0</td>\n",
              "      <td>0.0</td>\n",
              "      <td>1.0</td>\n",
              "      <td>0.0</td>\n",
              "      <td>0.0</td>\n",
              "      <td>NaN</td>\n",
              "      <td>2.0</td>\n",
              "      <td>7.0</td>\n",
              "      <td>0.0</td>\n",
              "    </tr>\n",
              "    <tr>\n",
              "      <th>4</th>\n",
              "      <td>20.0</td>\n",
              "      <td>0.0</td>\n",
              "      <td>2528.0</td>\n",
              "      <td>3.0</td>\n",
              "      <td>0.0</td>\n",
              "      <td>1.0</td>\n",
              "      <td>0.0</td>\n",
              "      <td>3.0</td>\n",
              "      <td>0.0</td>\n",
              "      <td>6.0</td>\n",
              "      <td>...</td>\n",
              "      <td>0.0</td>\n",
              "      <td>0.0</td>\n",
              "      <td>0.0</td>\n",
              "      <td>0.0</td>\n",
              "      <td>0.0</td>\n",
              "      <td>0.0</td>\n",
              "      <td>NaN</td>\n",
              "      <td>15.0</td>\n",
              "      <td>15.0</td>\n",
              "      <td>0.0</td>\n",
              "    </tr>\n",
              "  </tbody>\n",
              "</table>\n",
              "<p>5 rows × 67 columns</p>\n",
              "</div>\n",
              "      <button class=\"colab-df-convert\" onclick=\"convertToInteractive('df-11fbb696-f806-4eee-af3d-60b6c3c25387')\"\n",
              "              title=\"Convert this dataframe to an interactive table.\"\n",
              "              style=\"display:none;\">\n",
              "        \n",
              "  <svg xmlns=\"http://www.w3.org/2000/svg\" height=\"24px\"viewBox=\"0 0 24 24\"\n",
              "       width=\"24px\">\n",
              "    <path d=\"M0 0h24v24H0V0z\" fill=\"none\"/>\n",
              "    <path d=\"M18.56 5.44l.94 2.06.94-2.06 2.06-.94-2.06-.94-.94-2.06-.94 2.06-2.06.94zm-11 1L8.5 8.5l.94-2.06 2.06-.94-2.06-.94L8.5 2.5l-.94 2.06-2.06.94zm10 10l.94 2.06.94-2.06 2.06-.94-2.06-.94-.94-2.06-.94 2.06-2.06.94z\"/><path d=\"M17.41 7.96l-1.37-1.37c-.4-.4-.92-.59-1.43-.59-.52 0-1.04.2-1.43.59L10.3 9.45l-7.72 7.72c-.78.78-.78 2.05 0 2.83L4 21.41c.39.39.9.59 1.41.59.51 0 1.02-.2 1.41-.59l7.78-7.78 2.81-2.81c.8-.78.8-2.07 0-2.86zM5.41 20L4 18.59l7.72-7.72 1.47 1.35L5.41 20z\"/>\n",
              "  </svg>\n",
              "      </button>\n",
              "      \n",
              "  <style>\n",
              "    .colab-df-container {\n",
              "      display:flex;\n",
              "      flex-wrap:wrap;\n",
              "      gap: 12px;\n",
              "    }\n",
              "\n",
              "    .colab-df-convert {\n",
              "      background-color: #E8F0FE;\n",
              "      border: none;\n",
              "      border-radius: 50%;\n",
              "      cursor: pointer;\n",
              "      display: none;\n",
              "      fill: #1967D2;\n",
              "      height: 32px;\n",
              "      padding: 0 0 0 0;\n",
              "      width: 32px;\n",
              "    }\n",
              "\n",
              "    .colab-df-convert:hover {\n",
              "      background-color: #E2EBFA;\n",
              "      box-shadow: 0px 1px 2px rgba(60, 64, 67, 0.3), 0px 1px 3px 1px rgba(60, 64, 67, 0.15);\n",
              "      fill: #174EA6;\n",
              "    }\n",
              "\n",
              "    [theme=dark] .colab-df-convert {\n",
              "      background-color: #3B4455;\n",
              "      fill: #D2E3FC;\n",
              "    }\n",
              "\n",
              "    [theme=dark] .colab-df-convert:hover {\n",
              "      background-color: #434B5C;\n",
              "      box-shadow: 0px 1px 3px 1px rgba(0, 0, 0, 0.15);\n",
              "      filter: drop-shadow(0px 1px 2px rgba(0, 0, 0, 0.3));\n",
              "      fill: #FFFFFF;\n",
              "    }\n",
              "  </style>\n",
              "\n",
              "      <script>\n",
              "        const buttonEl =\n",
              "          document.querySelector('#df-11fbb696-f806-4eee-af3d-60b6c3c25387 button.colab-df-convert');\n",
              "        buttonEl.style.display =\n",
              "          google.colab.kernel.accessAllowed ? 'block' : 'none';\n",
              "\n",
              "        async function convertToInteractive(key) {\n",
              "          const element = document.querySelector('#df-11fbb696-f806-4eee-af3d-60b6c3c25387');\n",
              "          const dataTable =\n",
              "            await google.colab.kernel.invokeFunction('convertToInteractive',\n",
              "                                                     [key], {});\n",
              "          if (!dataTable) return;\n",
              "\n",
              "          const docLinkHtml = 'Like what you see? Visit the ' +\n",
              "            '<a target=\"_blank\" href=https://colab.research.google.com/notebooks/data_table.ipynb>data table notebook</a>'\n",
              "            + ' to learn more about interactive tables.';\n",
              "          element.innerHTML = '';\n",
              "          dataTable['output_type'] = 'display_data';\n",
              "          await google.colab.output.renderOutput(dataTable, element);\n",
              "          const docLink = document.createElement('div');\n",
              "          docLink.innerHTML = docLinkHtml;\n",
              "          element.appendChild(docLink);\n",
              "        }\n",
              "      </script>\n",
              "    </div>\n",
              "  </div>\n",
              "  "
            ]
          },
          "metadata": {},
          "execution_count": 19
        }
      ]
    },
    {
      "cell_type": "code",
      "source": [
        "df_test.head(5)"
      ],
      "metadata": {
        "colab": {
          "base_uri": "https://localhost:8080/",
          "height": 299
        },
        "id": "BkrPeID7GMjC",
        "outputId": "e2174097-4379-4fca-9f29-37c87fe93b26"
      },
      "execution_count": null,
      "outputs": [
        {
          "output_type": "execute_result",
          "data": {
            "text/plain": [
              "   TEMPOCPF  DISTCENTROCIDADE  DISTZONARISCO  QTDENDERECO  QTDEMAIL  \\\n",
              "0      10.0               0.0         9741.0          1.0       0.0   \n",
              "1      26.0               0.0       139139.0          2.0       0.0   \n",
              "2       4.0               NaN            NaN          0.0       0.0   \n",
              "3       5.0               NaN            NaN          0.0       0.0   \n",
              "4       3.0               NaN            NaN          0.0       0.0   \n",
              "\n",
              "   QTDCELULAR  CELULARPROCON  QTDFONEFIXO  TELFIXOPROCON  INDICEEMPREGO  ...  \\\n",
              "0         1.0            0.0          0.0            0.0            2.0  ...   \n",
              "1         0.0            0.0          1.0            0.0            0.0  ...   \n",
              "2         0.0            0.0          0.0            0.0            0.0  ...   \n",
              "3         0.0            0.0          0.0            0.0            0.0  ...   \n",
              "4         0.0            0.0          0.0            0.0            0.0  ...   \n",
              "\n",
              "   ESTIMATIVARENDA  QTDDECLARACAOISENTA  QTDDECLARACAO10  QTDDECLARACAOREST10  \\\n",
              "0            900.0                  0.0              0.0                  0.0   \n",
              "1           2100.0                  4.0             10.0                  0.0   \n",
              "2            900.0                  0.0              0.0                  0.0   \n",
              "3            900.0                  0.0              0.0                  0.0   \n",
              "4            900.0                  0.0              0.0                  0.0   \n",
              "\n",
              "   QTDDECLARACAOPAGAR10  RESTITUICAOAGENCIAALTARENDA  BOLSAFAMILIA  \\\n",
              "0                   0.0                          0.0           0.0   \n",
              "1                   0.0                          0.0           0.0   \n",
              "2                   0.0                          0.0           0.0   \n",
              "3                   0.0                          0.0           0.0   \n",
              "4                   0.0                          0.0           0.0   \n",
              "\n",
              "   ANOSULTIMARESTITUICAO  ANOSULTIMADECLARACAO  ANOSULTIMADECLARACAOPAGAR  \n",
              "0                    NaN                   NaN                        NaN  \n",
              "1                    NaN                   1.0                        NaN  \n",
              "2                    NaN                   NaN                        NaN  \n",
              "3                    NaN                   NaN                        NaN  \n",
              "4                    NaN                   NaN                        NaN  \n",
              "\n",
              "[5 rows x 66 columns]"
            ],
            "text/html": [
              "\n",
              "  <div id=\"df-0a5badda-d82c-4c89-b73d-548df0b6d79b\">\n",
              "    <div class=\"colab-df-container\">\n",
              "      <div>\n",
              "<style scoped>\n",
              "    .dataframe tbody tr th:only-of-type {\n",
              "        vertical-align: middle;\n",
              "    }\n",
              "\n",
              "    .dataframe tbody tr th {\n",
              "        vertical-align: top;\n",
              "    }\n",
              "\n",
              "    .dataframe thead th {\n",
              "        text-align: right;\n",
              "    }\n",
              "</style>\n",
              "<table border=\"1\" class=\"dataframe\">\n",
              "  <thead>\n",
              "    <tr style=\"text-align: right;\">\n",
              "      <th></th>\n",
              "      <th>TEMPOCPF</th>\n",
              "      <th>DISTCENTROCIDADE</th>\n",
              "      <th>DISTZONARISCO</th>\n",
              "      <th>QTDENDERECO</th>\n",
              "      <th>QTDEMAIL</th>\n",
              "      <th>QTDCELULAR</th>\n",
              "      <th>CELULARPROCON</th>\n",
              "      <th>QTDFONEFIXO</th>\n",
              "      <th>TELFIXOPROCON</th>\n",
              "      <th>INDICEEMPREGO</th>\n",
              "      <th>...</th>\n",
              "      <th>ESTIMATIVARENDA</th>\n",
              "      <th>QTDDECLARACAOISENTA</th>\n",
              "      <th>QTDDECLARACAO10</th>\n",
              "      <th>QTDDECLARACAOREST10</th>\n",
              "      <th>QTDDECLARACAOPAGAR10</th>\n",
              "      <th>RESTITUICAOAGENCIAALTARENDA</th>\n",
              "      <th>BOLSAFAMILIA</th>\n",
              "      <th>ANOSULTIMARESTITUICAO</th>\n",
              "      <th>ANOSULTIMADECLARACAO</th>\n",
              "      <th>ANOSULTIMADECLARACAOPAGAR</th>\n",
              "    </tr>\n",
              "  </thead>\n",
              "  <tbody>\n",
              "    <tr>\n",
              "      <th>0</th>\n",
              "      <td>10.0</td>\n",
              "      <td>0.0</td>\n",
              "      <td>9741.0</td>\n",
              "      <td>1.0</td>\n",
              "      <td>0.0</td>\n",
              "      <td>1.0</td>\n",
              "      <td>0.0</td>\n",
              "      <td>0.0</td>\n",
              "      <td>0.0</td>\n",
              "      <td>2.0</td>\n",
              "      <td>...</td>\n",
              "      <td>900.0</td>\n",
              "      <td>0.0</td>\n",
              "      <td>0.0</td>\n",
              "      <td>0.0</td>\n",
              "      <td>0.0</td>\n",
              "      <td>0.0</td>\n",
              "      <td>0.0</td>\n",
              "      <td>NaN</td>\n",
              "      <td>NaN</td>\n",
              "      <td>NaN</td>\n",
              "    </tr>\n",
              "    <tr>\n",
              "      <th>1</th>\n",
              "      <td>26.0</td>\n",
              "      <td>0.0</td>\n",
              "      <td>139139.0</td>\n",
              "      <td>2.0</td>\n",
              "      <td>0.0</td>\n",
              "      <td>0.0</td>\n",
              "      <td>0.0</td>\n",
              "      <td>1.0</td>\n",
              "      <td>0.0</td>\n",
              "      <td>0.0</td>\n",
              "      <td>...</td>\n",
              "      <td>2100.0</td>\n",
              "      <td>4.0</td>\n",
              "      <td>10.0</td>\n",
              "      <td>0.0</td>\n",
              "      <td>0.0</td>\n",
              "      <td>0.0</td>\n",
              "      <td>0.0</td>\n",
              "      <td>NaN</td>\n",
              "      <td>1.0</td>\n",
              "      <td>NaN</td>\n",
              "    </tr>\n",
              "    <tr>\n",
              "      <th>2</th>\n",
              "      <td>4.0</td>\n",
              "      <td>NaN</td>\n",
              "      <td>NaN</td>\n",
              "      <td>0.0</td>\n",
              "      <td>0.0</td>\n",
              "      <td>0.0</td>\n",
              "      <td>0.0</td>\n",
              "      <td>0.0</td>\n",
              "      <td>0.0</td>\n",
              "      <td>0.0</td>\n",
              "      <td>...</td>\n",
              "      <td>900.0</td>\n",
              "      <td>0.0</td>\n",
              "      <td>0.0</td>\n",
              "      <td>0.0</td>\n",
              "      <td>0.0</td>\n",
              "      <td>0.0</td>\n",
              "      <td>0.0</td>\n",
              "      <td>NaN</td>\n",
              "      <td>NaN</td>\n",
              "      <td>NaN</td>\n",
              "    </tr>\n",
              "    <tr>\n",
              "      <th>3</th>\n",
              "      <td>5.0</td>\n",
              "      <td>NaN</td>\n",
              "      <td>NaN</td>\n",
              "      <td>0.0</td>\n",
              "      <td>0.0</td>\n",
              "      <td>0.0</td>\n",
              "      <td>0.0</td>\n",
              "      <td>0.0</td>\n",
              "      <td>0.0</td>\n",
              "      <td>0.0</td>\n",
              "      <td>...</td>\n",
              "      <td>900.0</td>\n",
              "      <td>0.0</td>\n",
              "      <td>0.0</td>\n",
              "      <td>0.0</td>\n",
              "      <td>0.0</td>\n",
              "      <td>0.0</td>\n",
              "      <td>0.0</td>\n",
              "      <td>NaN</td>\n",
              "      <td>NaN</td>\n",
              "      <td>NaN</td>\n",
              "    </tr>\n",
              "    <tr>\n",
              "      <th>4</th>\n",
              "      <td>3.0</td>\n",
              "      <td>NaN</td>\n",
              "      <td>NaN</td>\n",
              "      <td>0.0</td>\n",
              "      <td>0.0</td>\n",
              "      <td>0.0</td>\n",
              "      <td>0.0</td>\n",
              "      <td>0.0</td>\n",
              "      <td>0.0</td>\n",
              "      <td>0.0</td>\n",
              "      <td>...</td>\n",
              "      <td>900.0</td>\n",
              "      <td>0.0</td>\n",
              "      <td>0.0</td>\n",
              "      <td>0.0</td>\n",
              "      <td>0.0</td>\n",
              "      <td>0.0</td>\n",
              "      <td>0.0</td>\n",
              "      <td>NaN</td>\n",
              "      <td>NaN</td>\n",
              "      <td>NaN</td>\n",
              "    </tr>\n",
              "  </tbody>\n",
              "</table>\n",
              "<p>5 rows × 66 columns</p>\n",
              "</div>\n",
              "      <button class=\"colab-df-convert\" onclick=\"convertToInteractive('df-0a5badda-d82c-4c89-b73d-548df0b6d79b')\"\n",
              "              title=\"Convert this dataframe to an interactive table.\"\n",
              "              style=\"display:none;\">\n",
              "        \n",
              "  <svg xmlns=\"http://www.w3.org/2000/svg\" height=\"24px\"viewBox=\"0 0 24 24\"\n",
              "       width=\"24px\">\n",
              "    <path d=\"M0 0h24v24H0V0z\" fill=\"none\"/>\n",
              "    <path d=\"M18.56 5.44l.94 2.06.94-2.06 2.06-.94-2.06-.94-.94-2.06-.94 2.06-2.06.94zm-11 1L8.5 8.5l.94-2.06 2.06-.94-2.06-.94L8.5 2.5l-.94 2.06-2.06.94zm10 10l.94 2.06.94-2.06 2.06-.94-2.06-.94-.94-2.06-.94 2.06-2.06.94z\"/><path d=\"M17.41 7.96l-1.37-1.37c-.4-.4-.92-.59-1.43-.59-.52 0-1.04.2-1.43.59L10.3 9.45l-7.72 7.72c-.78.78-.78 2.05 0 2.83L4 21.41c.39.39.9.59 1.41.59.51 0 1.02-.2 1.41-.59l7.78-7.78 2.81-2.81c.8-.78.8-2.07 0-2.86zM5.41 20L4 18.59l7.72-7.72 1.47 1.35L5.41 20z\"/>\n",
              "  </svg>\n",
              "      </button>\n",
              "      \n",
              "  <style>\n",
              "    .colab-df-container {\n",
              "      display:flex;\n",
              "      flex-wrap:wrap;\n",
              "      gap: 12px;\n",
              "    }\n",
              "\n",
              "    .colab-df-convert {\n",
              "      background-color: #E8F0FE;\n",
              "      border: none;\n",
              "      border-radius: 50%;\n",
              "      cursor: pointer;\n",
              "      display: none;\n",
              "      fill: #1967D2;\n",
              "      height: 32px;\n",
              "      padding: 0 0 0 0;\n",
              "      width: 32px;\n",
              "    }\n",
              "\n",
              "    .colab-df-convert:hover {\n",
              "      background-color: #E2EBFA;\n",
              "      box-shadow: 0px 1px 2px rgba(60, 64, 67, 0.3), 0px 1px 3px 1px rgba(60, 64, 67, 0.15);\n",
              "      fill: #174EA6;\n",
              "    }\n",
              "\n",
              "    [theme=dark] .colab-df-convert {\n",
              "      background-color: #3B4455;\n",
              "      fill: #D2E3FC;\n",
              "    }\n",
              "\n",
              "    [theme=dark] .colab-df-convert:hover {\n",
              "      background-color: #434B5C;\n",
              "      box-shadow: 0px 1px 3px 1px rgba(0, 0, 0, 0.15);\n",
              "      filter: drop-shadow(0px 1px 2px rgba(0, 0, 0, 0.3));\n",
              "      fill: #FFFFFF;\n",
              "    }\n",
              "  </style>\n",
              "\n",
              "      <script>\n",
              "        const buttonEl =\n",
              "          document.querySelector('#df-0a5badda-d82c-4c89-b73d-548df0b6d79b button.colab-df-convert');\n",
              "        buttonEl.style.display =\n",
              "          google.colab.kernel.accessAllowed ? 'block' : 'none';\n",
              "\n",
              "        async function convertToInteractive(key) {\n",
              "          const element = document.querySelector('#df-0a5badda-d82c-4c89-b73d-548df0b6d79b');\n",
              "          const dataTable =\n",
              "            await google.colab.kernel.invokeFunction('convertToInteractive',\n",
              "                                                     [key], {});\n",
              "          if (!dataTable) return;\n",
              "\n",
              "          const docLinkHtml = 'Like what you see? Visit the ' +\n",
              "            '<a target=\"_blank\" href=https://colab.research.google.com/notebooks/data_table.ipynb>data table notebook</a>'\n",
              "            + ' to learn more about interactive tables.';\n",
              "          element.innerHTML = '';\n",
              "          dataTable['output_type'] = 'display_data';\n",
              "          await google.colab.output.renderOutput(dataTable, element);\n",
              "          const docLink = document.createElement('div');\n",
              "          docLink.innerHTML = docLinkHtml;\n",
              "          element.appendChild(docLink);\n",
              "        }\n",
              "      </script>\n",
              "    </div>\n",
              "  </div>\n",
              "  "
            ]
          },
          "metadata": {},
          "execution_count": 20
        }
      ]
    },
    {
      "cell_type": "code",
      "execution_count": null,
      "metadata": {
        "id": "Y7WshR3nmZkL",
        "pycharm": {
          "name": "#%%\n"
        }
      },
      "outputs": [],
      "source": [
        "# use as many code and text cells as you wish"
      ]
    },
    {
      "cell_type": "markdown",
      "metadata": {
        "id": "xX9sOXW1gOCU",
        "pycharm": {
          "name": "#%% md\n"
        }
      },
      "source": [
        "# Univariate data analysis"
      ]
    },
    {
      "cell_type": "markdown",
      "metadata": {
        "id": "EQljrblLzQQz",
        "pycharm": {
          "name": "#%% md\n"
        }
      },
      "source": [
        "In this section, you should perform univariate data analysis on at least 20 variables. \n",
        "\n",
        "In the end, you should describe the main variables that are of your interest, and these should be accounted for in the next sections of the report.\n",
        "The definition of each variable chosen should be clarified, so arbitrary selections are **not** accepted at this point.\n",
        "\n",
        "For each variable plotted, make sure you determine the following:\n",
        "1. The distribution of the data (gaussian, binomial, exponential, etc)\n",
        "2. Skew\n",
        "3. Kurtosis\n",
        "4. Mean, standard deviation, and what they stand for in the context of the dataset\n",
        "\n",
        "Regardless of the type of the variable being analyzed, make sure you plot it correctly. For instance, make sure scatterplots are not used for categorical data and so forth."
      ]
    },
    {
      "cell_type": "code",
      "execution_count": null,
      "metadata": {
        "id": "BWS2-FMfgWJR",
        "pycharm": {
          "name": "#%%\n"
        }
      },
      "outputs": [],
      "source": [
        "# place as many cells to plot the visualizations, \n",
        "# as well as to describe the main findings"
      ]
    },
    {
      "cell_type": "code",
      "source": [
        "sns.countplot(df_train['TARGET'])"
      ],
      "metadata": {
        "colab": {
          "base_uri": "https://localhost:8080/",
          "height": 353
        },
        "id": "Yyrg3_ToBMBs",
        "outputId": "dfe7e8a6-26d2-4f52-b925-498b629070ca"
      },
      "execution_count": null,
      "outputs": [
        {
          "output_type": "stream",
          "name": "stderr",
          "text": [
            "/usr/local/lib/python3.7/dist-packages/seaborn/_decorators.py:43: FutureWarning: Pass the following variable as a keyword arg: x. From version 0.12, the only valid positional argument will be `data`, and passing other arguments without an explicit keyword will result in an error or misinterpretation.\n",
            "  FutureWarning\n"
          ]
        },
        {
          "output_type": "execute_result",
          "data": {
            "text/plain": [
              "<matplotlib.axes._subplots.AxesSubplot at 0x7f8f4b78cc50>"
            ]
          },
          "metadata": {},
          "execution_count": 40
        },
        {
          "output_type": "display_data",
          "data": {
            "text/plain": [
              "<Figure size 432x288 with 1 Axes>"
            ],
            "image/png": "[encoded data removed]"
          },
          "metadata": {
            "needs_background": "light"
          }
        }
      ]
    },
    {
      "cell_type": "code",
      "source": [
        "sns.boxplot(df_train['ESTIMATIVARENDA'])\n",
        "plt.xlim(0,10000)\n",
        "plt.show()"
      ],
      "metadata": {
        "colab": {
          "base_uri": "https://localhost:8080/",
          "height": 335
        },
        "id": "R3aAtC59KGXT",
        "outputId": "b89f0b65-e4aa-44f2-8f6a-285f14e33824"
      },
      "execution_count": null,
      "outputs": [
        {
          "output_type": "stream",
          "name": "stderr",
          "text": [
            "/usr/local/lib/python3.7/dist-packages/seaborn/_decorators.py:43: FutureWarning: Pass the following variable as a keyword arg: x. From version 0.12, the only valid positional argument will be `data`, and passing other arguments without an explicit keyword will result in an error or misinterpretation.\n",
            "  FutureWarning\n"
          ]
        },
        {
          "output_type": "display_data",
          "data": {
            "text/plain": [
              "<Figure size 432x288 with 1 Axes>"
            ],
            "image/png": "[encoded data removed]"
          },
          "metadata": {
            "needs_background": "light"
          }
        }
      ]
    },
    {
      "cell_type": "code",
      "source": [
        "sns.countplot(df_train['BOLSAFAMILIA'])\n",
        "#plt.pie(df_train['BOLSAFAMILIA'])"
      ],
      "metadata": {
        "colab": {
          "base_uri": "https://localhost:8080/",
          "height": 353
        },
        "id": "1gE3AKVrK3AT",
        "outputId": "15c1b109-8419-4dae-a8f1-0c52f87f2817"
      },
      "execution_count": null,
      "outputs": [
        {
          "output_type": "stream",
          "name": "stderr",
          "text": [
            "/usr/local/lib/python3.7/dist-packages/seaborn/_decorators.py:43: FutureWarning: Pass the following variable as a keyword arg: x. From version 0.12, the only valid positional argument will be `data`, and passing other arguments without an explicit keyword will result in an error or misinterpretation.\n",
            "  FutureWarning\n"
          ]
        },
        {
          "output_type": "execute_result",
          "data": {
            "text/plain": [
              "<matplotlib.axes._subplots.AxesSubplot at 0x7f8fb3bd3d50>"
            ]
          },
          "metadata": {},
          "execution_count": 35
        },
        {
          "output_type": "display_data",
          "data": {
            "text/plain": [
              "<Figure size 432x288 with 1 Axes>"
            ],
            "image/png": "[encoded data removed]"
          },
          "metadata": {
            "needs_background": "light"
          }
        }
      ]
    },
    {
      "cell_type": "code",
      "source": [
        "#df_train['INDICEEMPREGO'].describe()\n",
        "sns.distplot( df_train[\"INDICEEMPREGO\"], hist=True, kde=False, rug=False )"
      ],
      "metadata": {
        "colab": {
          "base_uri": "https://localhost:8080/",
          "height": 353
        },
        "id": "sKvFGUBWMac2",
        "outputId": "e9fbb143-465e-4571-d79b-441138bcc9a5"
      },
      "execution_count": null,
      "outputs": [
        {
          "output_type": "stream",
          "name": "stderr",
          "text": [
            "/usr/local/lib/python3.7/dist-packages/seaborn/distributions.py:2619: FutureWarning: `distplot` is a deprecated function and will be removed in a future version. Please adapt your code to use either `displot` (a figure-level function with similar flexibility) or `histplot` (an axes-level function for histograms).\n",
            "  warnings.warn(msg, FutureWarning)\n"
          ]
        },
        {
          "output_type": "execute_result",
          "data": {
            "text/plain": [
              "<matplotlib.axes._subplots.AxesSubplot at 0x7f8fb3b629d0>"
            ]
          },
          "metadata": {},
          "execution_count": 37
        },
        {
          "output_type": "display_data",
          "data": {
            "text/plain": [
              "<Figure size 432x288 with 1 Axes>"
            ],
            "image/png": "[encoded data removed]"
          },
          "metadata": {
            "needs_background": "light"
          }
        }
      ]
    },
    {
      "cell_type": "code",
      "source": [
        "# PORTEEMPREGADOR\n",
        "df_train['PORTEEMPREGADOR'].unique()"
      ],
      "metadata": {
        "colab": {
          "base_uri": "https://localhost:8080/"
        },
        "id": "6TM5sqKiQYmv",
        "outputId": "1ab2b3e0-e64a-4693-9210-f7a61a4d8c59"
      },
      "execution_count": null,
      "outputs": [
        {
          "output_type": "execute_result",
          "data": {
            "text/plain": [
              "array([ 0.,  2.,  1.,  3.,  4., nan])"
            ]
          },
          "metadata": {},
          "execution_count": 41
        }
      ]
    },
    {
      "cell_type": "code",
      "execution_count": null,
      "metadata": {
        "id": "zACQ5EROmhM5",
        "pycharm": {
          "name": "#%%\n"
        }
      },
      "outputs": [],
      "source": [
        "# if you realize you need to further clean your data here, there is no problem, \n",
        "# yet, make sure you are describing the entire process and the rationale \n",
        "# behind your choices here"
      ]
    },
    {
      "cell_type": "markdown",
      "metadata": {
        "id": "cAVrOW1tgQU7",
        "pycharm": {
          "name": "#%% md\n"
        }
      },
      "source": [
        "# Multivariate data analysis"
      ]
    },
    {
      "cell_type": "markdown",
      "metadata": {
        "id": "jD7VaU40z_sN",
        "pycharm": {
          "name": "#%% md\n"
        }
      },
      "source": [
        "In this section, you should plot at least 8 multivariate visualizations. The key here is to investigate underlying correlations and behaviors in the dataset.\n",
        "Naturally, as visualizations are being created, we should end up with obvious results, yet, you should find at least **TWO** non-obvious behavior in data.\n",
        "\n",
        "Please follow these steps for creating your visualizations:\n",
        "1. State an hypothesis. The key here is to explain why you are choosing those specific variables together and what you are expecting to find.\n",
        "2. Determine what kind of visualization is the most suited.\n",
        "3. Report the findings and whether they corroborate or not the aforestated hypothesis.\n",
        "\n",
        "\n",
        "### Hints\n",
        "\n",
        "In this section, make sure you go beyond naive explorations. For instance, try PCA, t-SNE, and even other techniques we have not worked with during the lectures. The key here is to start to develop a critical mindset towards data analysis and our own work.\n",
        "\n",
        "### Important\n",
        "\n",
        "It is strictly forbidden to create multivariate visualizations using variables that were not used in the previous section (univariate analysis)."
      ]
    },
    {
      "cell_type": "code",
      "execution_count": null,
      "metadata": {
        "id": "fp4ct7TngWmF",
        "pycharm": {
          "name": "#%%\n"
        }
      },
      "outputs": [],
      "source": [
        "# again, feel free to place as many cells to plot the visualizations, \n",
        "# as well as describe to the main findings"
      ]
    },
    {
      "cell_type": "markdown",
      "metadata": {
        "id": "ehWz8rAcgZ0c",
        "pycharm": {
          "name": "#%% md\n"
        }
      },
      "source": [
        "# Final Plots"
      ]
    },
    {
      "cell_type": "markdown",
      "metadata": {
        "id": "OHyF3RvU2q9r",
        "pycharm": {
          "name": "#%% md\n"
        }
      },
      "source": [
        "In this section, you need to enhance 3 multivariate visualizations that were presented in the previous section of the report.\n",
        "The key here is to enhance these visualizations with the goal of presenting them for an audience that is not familiar with the dataset used or with data analysis.\n",
        "**Therefore, make sure that its size, colors, textures, etc, are appropriate are convey the right information to the audience.**\n",
        "\n",
        "For your final plots, make sure you follow these steps:\n",
        "1. Present the plot\n",
        "2. Provide a description of the visualization, including the main findings that we can extract from it\n",
        "\n",
        "\n",
        "**Hint: take a look at the checklist also made available based on the work of Evergreen.**"
      ]
    },
    {
      "cell_type": "code",
      "execution_count": null,
      "metadata": {
        "id": "K90_0h6JgfnW",
        "pycharm": {
          "name": "#%%\n"
        }
      },
      "outputs": [],
      "source": [
        "# your code goes here"
      ]
    },
    {
      "cell_type": "markdown",
      "metadata": {
        "id": "Ua7B5nTmgbN7",
        "pycharm": {
          "name": "#%% md\n"
        }
      },
      "source": [
        "# Digest"
      ]
    },
    {
      "cell_type": "markdown",
      "metadata": {
        "id": "YJ0cqdoj4Lg7",
        "pycharm": {
          "name": "#%% md\n"
        }
      },
      "source": [
        "In this section you should write down all the main findings of this exploratory data analysis. Furthermore, you should provide a reflection about your own work and effort during the module, highlighting what you believe you have done well and what you should have done differently. This digest should have at least 2500 characters (no spaces)."
      ]
    },
    {
      "cell_type": "markdown",
      "metadata": {
        "id": "NQWFN0TEPUzp",
        "pycharm": {
          "name": "#%% md\n"
        }
      },
      "source": [
        "```\n",
        "Add your text here.\n",
        "```"
      ]
    },
    {
      "cell_type": "markdown",
      "metadata": {
        "id": "_CaFQEil1F6Q",
        "pycharm": {
          "name": "#%% md\n"
        }
      },
      "source": [
        "# Final Steps\n"
      ]
    },
    {
      "cell_type": "markdown",
      "metadata": {
        "id": "a2R5Kily1H7f",
        "pycharm": {
          "name": "#%% md\n"
        }
      },
      "source": [
        "1. Save this report as a jupyter notebook (`.ipynb`)\n",
        "2. Save a copy of this report as a PDF file (`.pdf`)\n",
        "3. Copy the dataset\n",
        "4. Zip it all together within a single file (`<your_team_name>.zip`)\n",
        "5. Send it over using Blackboard."
      ]
    },
    {
      "cell_type": "code",
      "execution_count": null,
      "metadata": {
        "pycharm": {
          "name": "#%%\n"
        },
        "id": "e1Z7s-yuEGHV"
      },
      "outputs": [],
      "source": [
        ""
      ]
    }
  ],
  "metadata": {
    "accelerator": "GPU",
    "colab": {
      "collapsed_sections": [
        "WwufnHfvfSwv",
        "jD7VaU40z_sN",
        "ehWz8rAcgZ0c",
        "Ua7B5nTmgbN7",
        "_CaFQEil1F6Q"
      ],
      "name": "DS_project.ipynb",
      "provenance": [],
      "include_colab_link": true
    },
    "kernelspec": {
      "display_name": "Python 3",
      "language": "python",
      "name": "python3"
    },
    "language_info": {
      "codemirror_mode": {
        "name": "ipython",
        "version": 3
      },
      "file_extension": ".py",
      "mimetype": "text/x-python",
      "name": "python",
      "nbconvert_exporter": "python",
      "pygments_lexer": "ipython3",
      "version": "3.7.4"
    }
  },
  "nbformat": 4,
  "nbformat_minor": 0
}